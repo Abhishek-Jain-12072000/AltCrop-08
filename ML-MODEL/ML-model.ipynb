{
  "nbformat": 4,
  "nbformat_minor": 0,
  "metadata": {
    "colab": {
      "name": "Untitled18.ipynb",
      "provenance": [],
      "collapsed_sections": []
    },
    "kernelspec": {
      "name": "python3",
      "display_name": "Python 3"
    }
  },
  "cells": [
    {
      "cell_type": "code",
      "metadata": {
        "id": "MtJAcFGjwIHJ",
        "outputId": "050fead4-ed3a-4b55-ffb1-5d56f200d414",
        "colab": {
          "resources": {
            "http://localhost:8080/nbextensions/google.colab/files.js": {
              "data": "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",
              "ok": true,
              "headers": [
                [
                  "content-type",
                  "application/javascript"
                ]
              ],
              "status": 200,
              "status_text": ""
            }
          },
          "base_uri": "https://localhost:8080/",
          "height": 110
        }
      },
      "source": [
        "from google.colab import files\n",
        "files.upload()"
      ],
      "execution_count": 6,
      "outputs": [
        {
          "output_type": "display_data",
          "data": {
            "text/html": [
              "\n",
              "     <input type=\"file\" id=\"files-12434e13-c9bc-484b-a9aa-817ed7a0fc5a\" name=\"files[]\" multiple disabled\n",
              "        style=\"border:none\" />\n",
              "     <output id=\"result-12434e13-c9bc-484b-a9aa-817ed7a0fc5a\">\n",
              "      Upload widget is only available when the cell has been executed in the\n",
              "      current browser session. Please rerun this cell to enable.\n",
              "      </output>\n",
              "      <script src=\"/nbextensions/google.colab/files.js\"></script> "
            ],
            "text/plain": [
              "<IPython.core.display.HTML object>"
            ]
          },
          "metadata": {
            "tags": []
          }
        },
        {
          "output_type": "stream",
          "text": [
            "Saving cropdata - Sheet1.csv to cropdata - Sheet1.csv\n"
          ],
          "name": "stdout"
        },
        {
          "output_type": "execute_result",
          "data": {
            "text/plain": [
              "{'cropdata - Sheet1.csv': b'Crop,Season,Region,Min. Temperature, Max. Temperature,Min. Rainfall(cm),Max. Rainfall(cm),pH value ,soil type\\r\\nBajara ,Kharif ,Alirajpur,26,28,50,70,6.173,black cotton\\r\\nBajara ,Kharif ,Barwani,25,27,48,71,5.896,Medium Black Soil\\r\\nBajara ,Kharif ,Bhind,24,28,45,65,6.192,Alluvial soil\\r\\nBajara ,Kharif ,Datia,25,28,40,60,5.886,Deep Medium Black Soil\\r\\nBajara ,Kharif ,Dhar,23,25,41,76,6.332,Deep Medium Black Soil\\r\\nBajara ,Kharif ,Gwalior,20,27,50,60,5.585,Alluvial soil\\r\\nBajara ,Kharif ,Morena,23,26,40,75,5.867,Alluvial soil\\r\\nBajara ,Kharif ,Sheopur,25,30,45,60,6.525,Mixed Red & Black Soil\\r\\nBajara ,Kharif ,Shivpuri,20,30,40,70,6.555,Medium and Deep Black soil and Alluvial Soil\\r\\nCotton,Kharif,Alirajpur,24,30,60,100,5.952,Deep Medium Black Soil\\r\\nCotton,Kharif,Barwani,18,29,55,100,6.587,Deep Medium Black Soil\\r\\nCotton,Kharif,Burhanpur,21,27,50,95,7.157,Deep Medium Black Soil\\r\\nCotton,Kharif,Chhindwara,20,30,65,100,7.601,Shallow & Medium Black soil\\r\\nCotton,Kharif,Dewas,22,29,50,90,6.173,Deep Medium Black Soil\\r\\nCotton,Kharif,Dhar,20,32,55,95,7.247,Deep Medium Black Soil\\r\\nCotton,Kharif,Jhabua,24,29,51,97,7.77,Deep Medium Black Soil\\r\\nCotton,Kharif,Khandwa,19,30,49,93,6.14,Deep medium Black soil \\r\\nCotton,Kharif,Khargone,17,29,53,96,6.041,Deep medium Black soil \\r\\nCotton,Kharif,Ratlam,21,30,50,100,6.567,Deep medium Black soil \\r\\nGram,Rabi,Agar Malwa,23,31,69,97,8.017,Deep Medium Black Soil\\r\\nGram,Rabi,Alirajpur,24,28,65,82,7.084,Deep Medium Black Soil\\r\\nGram,Rabi,Anuppur,24,28,58,79,8.111,Deep Medium Black Soil\\r\\nGram,Rabi,Ashoknagar,24,28,66,87,8.094,Deep Medium Black Soil\\r\\nGram,Rabi,Balaghat,22,30,58,77,7.786,Mixed red & black Soil\\r\\nGram,Rabi,Barwani,26,28,69,86,8.143,Deep Medium Black Soil\\r\\nGram,Rabi,Betul,22,32,57,94,8.331,Shallow & Medium Black Soil\\r\\nGram,Rabi,Bhind,22,32,63,99,7.975,Alluvial soil\\r\\nGram,Rabi,Bhopal,21,32,55,76,7.549,Deep Medium Black Soil\\r\\nGram,Rabi,Burhanpur,23,33,63,92,7.113,Deep Medium Black Soil\\r\\nGram,Rabi,Chhatarpur,23,30,67,75,6.602,Mixed red & black Soil\\r\\nGram,Rabi,Chhindwara,24,30,62,84,7.499,Shallow & Medium Black Soil\\r\\nGram,Rabi,Damoh,23,32,68,81,7.957,Deep Medium Black Soil\\r\\nGram,Rabi,Datia,25,30,68,98,6.53,Deep Medium Black Soil\\r\\nGram,Rabi,Dewas,22,28,58,80,7.439,Deep Medium Black Soil\\r\\nGram,Rabi,Dhar,21,30,66,86,8.088,Deep Medium Black Soil\\r\\nGram,Rabi,Dindori,25,32,55,90,6.856,Mixed red & black Soil\\r\\nGram,Rabi,Guna,24,28,56,75,7.357,Deep Medium VBlack Soil\\r\\nGram,Rabi,Gwalior,22,31,55,96,8.007,Alluvial soil\\r\\nGram,Rabi,Harda,24,32,67,92,7.244,Deep Medium VBlack Soil\\r\\nGram,Rabi,Hoshangabad,22,29,63,78,7.914,Deep Medium VBlack Soil\\r\\nGram,Rabi,Indore,21,31,68,82,7.104,Deep Medium VBlack Soil\\r\\nGram,Rabi,Jabalpur,21,33,55,85,6.718,Deep Medium VBlack Soil\\r\\nGram,Rabi,Jhabua,25,31,60,79,7.191,Deep Medium VBlack Soil\\r\\nGram,Rabi,Katni,23,29,56,92,8.193,Deep Medium VBlack Soil\\r\\nGram,Rabi,Khandwa,26,33,68,77,7.714,Deep Medium VBlack Soil\\r\\nGram,Rabi,Khargone,23,30,67,79,7.984,Deep Medium VBlack Soil\\r\\nGram,Rabi,Mandla,22,33,69,91,6.874,Mixed red & black Soil\\r\\nGram,Rabi,Mandsaur,24,31,62,98,6.989,Deep Medium VBlack Soil\\r\\nGram,Rabi,Morena,23,31,68,78,8.467,Alluvial soil\\r\\nGram,Rabi,Narsinghpur,21,29,55,76,6.685,Deep Medium VBlack Soil\\r\\nGram,Rabi,Neemuch,24,28,65,82,8.43,Deep Medium VBlack Soil\\r\\nGram,Rabi,Panna,22,31,62,88,7.142,Mixed red & black Soil\\r\\nGram,Rabi,Raisen,23,33,55,75,6.705,Deep Medium Black Soil\\r\\nGram,Rabi,Rajgarh,22,29,63,88,7.986,Deep Medium Black Soil\\r\\nGram,Rabi,Ratlam,21,33,56,88,6.695,Deep Medium Black Soil\\r\\nGram,Rabi,Rewa,25,30,65,98,8.085,Mixed red & black Soil\\r\\nGram,Rabi,Sagar,26,30,68,91,7.103,Deep Medium Black Soil\\r\\nGram,Rabi,Satna,23,29,67,78,8.4,Mixed red & black Soil\\r\\nGram,Rabi,Sehore,25,33,64,94,6.536,Deep Medium Black Soil\\r\\nGram,Rabi,Seoni,24,33,59,89,7.582,Shallow & Medium Black Soil\\r\\nGram,Rabi,Shahdol,25,33,65,90,7.269,Deep Medium Black Soil\\r\\nGram,Rabi,Shajapur,26,32,64,96,7.727,Deep Meduim Black soil\\r\\nGram,Rabi,Sheopur,25,33,63,88,8.363,Deep Medium Black Soil\\r\\nGram,Rabi,Shivpuri,23,33,56,91,6.934,Deep Medium Black Soil\\r\\nGram,Rabi,Sidhi,26,29,57,79,6.803,Deep Medium Black Soil\\r\\nGram,Rabi,Singrauli,26,29,56,79,8.577,Deep Medium Black Soil\\r\\nGram,Rabi,Tikamgarh,22,29,59,90,7.571,Mixed red & black Soil\\r\\nGram,Rabi,Ujjain,26,31,61,87,7.645,Deep Medium Black Soil\\r\\nGram,Rabi,Umaria,25,28,61,80,7.707,Deep Medium Black Soil\\r\\nGram,Rabi,Vidisa,25,29,63,98,7.614,Deep Medium Black Soil\\r\\nBanana,Whole Year,Anuppur,24,34,201,253,7.282,Deep Medium Black Soil\\r\\nBanana,Whole Year,Balaghat,22,34,227,252,7.056,Mixed red & black Soil\\r\\nBanana,Whole Year,Barwani,22,32,220,243,7.612,Deep Medium Black Soil\\r\\nBanana,Whole Year,Burhanpur,22,28,217,246,6.589,Deep Medium Black Soil\\r\\nBanana,Whole Year,Damoh,17,29,220,253,7.091,Deep Medium Black Soil\\r\\nBanana,Whole Year,Dhar,22,34,203,253,7.163,Deep Medium Black Soil\\r\\nBanana,Whole Year,Hoshangabad,19,28,223,251,7.461,Deep Medium Black Soil\\r\\nBanana,Whole Year,Khandwa,24,33,219,246,6.506,Deep Medium Black Soil\\r\\nBanana,Whole Year,Khargone,20,32,228,242,7.372,Deep Medium Black Soil\\r\\nBanana,Whole Year,Ratlam,19,33,210,252,7.337,Deep Medium Black Soil\\r\\nBanana,Whole Year,Sidhi,18,30,205,248,6.707,Deep Medium Black Soil\\r\\nBanana,Whole Year,Singrauli,16,30,210,249,7.028,Deep Medium Black Soil\\r\\nPotato,Whole Year,Alirajpur,23,25,51,69,7.039,Deep Medium Black Soil\\r\\nPotato,Whole Year,Anuppur,20,27,58,71,5.856,Deep Medium Black Soil\\r\\nPotato,Whole Year,Ashoknagar,21,26,52,63,6.037,Deep Medium Black Soil\\r\\nPotato,Whole Year,Balaghat,21,24,51,66,5.829,Mixed red & black Soil\\r\\nPotato,Whole Year,Barwani,22,27,51,62,5.728,Deep Medium Black Soil\\r\\nPotato,Whole Year,Betul,23,27,49,69,6.7,Shallow & Medium Black Soil\\r\\nPotato,Whole Year,Bhind,20,27,58,69,6.43,Alluvial soil\\r\\nPotato,Whole Year,Bhopal,20,27,59,65,5.828,Deep Medium Black Soil\\r\\nPotato,Whole Year,Chhatarpur,20,24,55,69,6.797,Mixed red & black Soil\\r\\nPotato,Whole Year,Chhindwara,21,26,57,69,6.317,Shallow & Medium Black Soil\\r\\nPotato,Whole Year,Damoh,23,26,50,67,6.021,Deep Medium Black Soil\\r\\nPotato,Whole Year,Datia,23,24,55,71,5.626,Deep Medium Black Soil\\r\\nPotato,Whole Year,Dewas,23,26,55,63,6.353,Deep Medium Black Soil\\r\\nPotato,Whole Year,Dhar,22,24,59,63,6.376,Deep Medium Black Soil\\r\\nPotato,Whole Year,Dindori,23,26,54,71,6.334,Mixed red & black Soil\\r\\nPotato,Whole Year,Guna,21,26,54,68,7.076,Deep Medium Black Soil\\r\\nPotato,Whole Year,Gwalior,21,24,58,69,6.561,Alluvial soil\\r\\nPotato,Whole Year,Harda,20,27,52,63,6.939,Deep Medium Black Soil\\r\\nPotato,Whole Year,Hoshangabad,23,27,56,65,5.973,Deep Medium Black Soil\\r\\nPotato,Whole Year,Indore,23,26,57,67,6.09,Deep Medium Black Soil\\r\\nPotato,Whole Year,Jabalpur,21,27,50,68,6.715,Deep Medium Black Soil\\r\\nPotato,Whole Year,Jhabua,22,24,58,70,6.657,Deep Medium Black Soil\\r\\nPotato,Whole Year,Katni,20,24,59,69,7.065,Deep Medium Black Soil\\r\\nPotato,Whole Year,Khandwa,22,27,57,66,6.109,Deep Medium Black Soil\\r\\nPotato,Whole Year,Khargone,20,27,57,67,5.987,Deep Medium Black Soil\\r\\nPotato,Whole Year,Mandla,23,24,53,69,6.498,Mixed red & black Soil\\r\\nPotato,Whole Year,Mandsaur,23,24,50,66,6.86,Deep Medium Black Soil\\r\\nPotato,Whole Year,Morena,23,25,56,67,7.024,Alluvial soil\\r\\nPotato,Whole Year,Narsinghpur,21,26,52,62,5.75,Deep Medium Black Soil\\r\\nPotato,Whole Year,Neemuch,23,24,58,69,6.355,Deep Medium Black Soil\\r\\nPotato,Whole Year,Panna,20,24,49,69,6.226,Mixed red & black Soil\\r\\nPotato,Whole Year,Raisen,21,26,59,67,6.737,Deep Medium Black Soil\\r\\nPotato,Whole Year,Rajgarh,23,27,53,63,6.759,Deep Medium Black Soil\\r\\nPotato,Whole Year,Ratlam,22,25,56,66,6.839,Deep Medium Black Soil\\r\\nPotato,Whole Year,Sagar,22,24,56,63,5.61,Deep Medium Black Soil\\r\\nPotato,Whole Year,Satna,21,27,49,66,5.709,Mixed red & black Soil\\r\\nPotato,Whole Year,Sehore,23,25,59,64,6.052,Deep Medium Black Soil\\r\\nPotato,Whole Year,Seoni,20,27,51,63,5.866,Shallow & Medium Black Soil\\r\\nPotato,Whole Year,Shahdol,20,24,56,70,5.585,Deep Medium Black Soil\\r\\nPotato,Whole Year,Shajapur,20,26,51,66,6.753,Deep Medium Black Soil\\r\\nPotato,Whole Year,Sheopur,21,27,53,63,6.631,Deep Medium Black Soil\\r\\nPotato,Whole Year,Shivpuri,21,27,50,65,6.357,Deep Medium Black Soil\\r\\nPotato,Whole Year,Sidhi,23,26,56,70,6.116,Deep Medium Black Soil\\r\\nPotato,Whole Year,Singrauli,23,27,52,71,6.277,Deep Medium Black Soil\\r\\nPotato,Whole Year,Tikamgarh,20,24,58,63,6.828,Mixed red & black Soil\\r\\nPotato,Whole Year,Ujjain,21,24,49,70,6.445,Deep Medium Black Soil\\r\\nPotato,Whole Year,Umaria,23,25,59,62,5.983,Deep Medium Black Soil\\r\\nPotato,Whole Year,Vidisha,22,26,53,65,5.56,Deep Medium Black Soil\\r\\nArhar/Tur,Kharif ,Agar Malwa,18,30,59,63,7.131,Deep Medium Black Soil\\r\\nArhar/Tur,Kharif ,Alirajpur,15,30,54,62,6.983,Deep Medium Black Soil\\r\\nArhar/Tur,Kharif ,Anuppur,16,34,60,61,7.472,Deep Medium Black Soil\\r\\nArhar/Tur,Kharif ,Ashoknagar,16,30,59,62,7.224,Deep Medium Black Soil\\r\\nArhar/Tur,Kharif ,Balaghat,15,33,60,64,7.256,Mixed red & black Soil\\r\\nArhar/Tur,Kharif ,Barwani,18,30,60,61,7.119,Deep Medium Black Soil\\r\\nArhar/Tur,Kharif ,Betul,17,35,59,62,7.41,Shallow & Medium Black Soil\\r\\nArhar/Tur,Kharif ,Bhind,15,31,59,61,6.696,Alluvial soil\\r\\nArhar/Tur,Kharif ,Bhopal,16,33,58,62,7.168,Deep Medium Black Soil\\r\\nArhar/Tur,Kharif,Burhanpur,18,35,60,63,7.473,Deep Medium Black Soil\\r\\nArhar/Tur,Kharif,Chhatarpur,18,30,59,62,6.749,Deep Medium Black Soil\\r\\nArhar/Tur,Kharif,Chhindwara,15,35,58,63,6.928,Deep Medium Black Soil\\r\\nArhar/Tur,Kharif,Damoh,16,31,58,61,7.352,Deep Medium Black Soil\\r\\nArhar/Tur,Kharif,Datia,18,34,58,61,6.603,Deep Medium Black Soil\\r\\nArhar/Tur,Kharif,Dewas,17,33,56,61,6.837,Deep Medium Black Soil\\r\\nArhar/Tur,Kharif,Dhar,17,35,60,64,6.71,Deep Medium Black Soil\\r\\nArhar/Tur,Kharif,Dindori,17,31,58,61,7.581,Deep Medium Black Soil\\r\\nArhar/Tur,Kharif,Guna,18,30,59,64,7.224,Deep Medium Black Soil\\r\\nArhar/Tur,Kharif,Gwalior,18,35,54,63,6.843,Shallow & Medium Black Soil\\r\\nArhar/Tur,Kharif,Harda,16,30,57,63,7.045,Deep Medium Black Soil\\r\\nCoriander,Whole Year,Balaghat,21,28,79,100,6.842,Deep Medium Black Soil\\r\\nCoriander,Whole Year,Barwani,22,26,84,99,6.656,Deep Medium Black Soil\\r\\nCoriander,Whole Year,Betul,24,27,84,95,6.804,Deep Medium Black Soil\\r\\nCoriander,Whole Year,Bhind,25,27,82,91,6.447,Deep Medium Black Soil\\r\\nCoriander,Whole Year,Bhopal,21,26,77,89,6.629,Deep Medium Black Soil\\r\\nCoriander,Whole Year,Burhanpur,24,30,84,96,6.493,Shallow & Medium Black Soil\\r\\nCoriander,Whole Year,Chhatarpur,22,28,80,94,6.227,Shallow & Medium Black Soil\\r\\nCoriander,Whole Year,Chhindwara,22,28,82,88,6.371,Mixed red & black Soil\\r\\nCoriander,Whole Year,Damoh,23,29,75,92,6.656,Deep Medium Black Soil\\r\\nCoriander,Whole Year,Datia,21,26,80,95,6.437,Deep Medium Black Soil\\r\\nCoriander,Whole Year,Dewas,25,29,81,102,6.66,Deep Medium Black Soil\\r\\nCoriander,Whole Year,Dhar,23,30,75,100,6.381,Deep Medium Black Soil\\r\\nCoriander,Whole Year,Dindori,25,29,78,94,6.33,Deep Medium Black Soil\\r\\nCoriander,Whole Year,Guna,25,28,82,101,6.689,Deep Medium Black Soil\\r\\nCoriander,Whole Year,Gwalior,24,27,84,94,6.779,Alluvial soil\\r\\nCoriander,Whole Year,Harda,25,27,81,95,6.251,Deep Medium Black Soil\\r\\nCoriander,Whole Year,Hoshangabad,24,26,83,96,6.593,Shallow & Medium Black Soil\\r\\nCoriander,Whole Year,Indore,20,26,81,101,6.339,Deep Medium Black Soil\\r\\nCoriander,Whole Year,Jabalpur,24,30,75,100,6.632,Deep Medium Black Soil\\r\\nCoriander,Whole Year,Jhabua,25,30,83,92,6.775,Deep Medium Black Soil\\r\\nCoriander,Whole Year,Katni,23,29,76,92,6.786,Shallow & Medium Black Soil\\r\\nCoriander,Whole Year,Khandwa,21,27,83,97,6.896,Shallow & Medium Black Soil\\r\\nCoriander,Whole Year,Khargone,23,30,76,97,6.78,Mixed red & black Soil\\r\\nMaize,Kharif ,Sagar,22,27,55,90,6.742,Deep Medium Black Soil\\r\\nMaize,Kharif ,Satna,23,25,53,98,5.975,Deep Medium Black Soil\\r\\nMaize,Kharif ,Sehore,21,27,56,91,6.777,Deep Medium Black Soil\\r\\nMaize,Kharif ,Seoni,25,27,51,88,5.885,Mixed red & black Soil\\r\\nMaize,Kharif ,Shahdol,19,28,59,100,6.871,Mixed red & black Soil\\r\\nMaize,Kharif ,Shajapur,22,28,53,93,6.097,Shallow & Medium Black Soil\\r\\nMaize,Kharif ,Sheopur,25,25,60,93,5.889,Deep Medium Black Soil\\r\\nMaize,Kharif ,Shivpuri,22,27,51,98,6.246,Shallow & Medium Black Soil\\r\\nMaize,Kharif ,Sidhi,20,26,55,87,5.929,Mixed red & black Soil\\r\\nMaize,Kharif,Singrauli,24,26,55,90,6.385,Deep Medium Black Soil\\r\\nMaize,Kharif,Tikamgarh,26,28,49,88,5.849,Deep Medium Black Soil\\r\\nMaize,Kharif,Ujjain,22,28,61,86,6.612,Deep Medium Black Soil\\r\\nMaize,Kharif,Umaria,25,25,64,91,6.559,Deep Medium Black Soil\\r\\nMaize,Kharif,Vidisha,19,27,55,85,6.707,Deep Medium Black Soil\\r\\nBajara ,Kharif ,Alirajpur,26,28,50,70,6.173,black cotton\\r\\nBajara ,Kharif ,Barwani,25,27,48,71,5.896,Medium Black Soil\\r\\nBajara ,Kharif ,Bhind,24,28,45,65,6.192,Alluvial soil\\r\\nBajara ,Kharif ,Datia,25,28,40,60,5.886,Deep Medium Black Soil\\r\\nBajara ,Kharif ,Dhar,23,25,41,76,6.332,Deep Medium Black Soil\\r\\nBajara ,Kharif ,Gwalior,20,27,50,60,5.585,Alluvial soil\\r\\nBajara ,Kharif ,Morena,23,26,40,75,5.867,Alluvial soil\\r\\nBajara ,Kharif ,Sheopur,25,30,45,60,6.525,Mixed Red & Black Soil\\r\\nBajara ,Kharif ,Shivpuri,20,30,40,70,6.555,Medium and Deep Black soil and Alluvial Soil\\r\\nCotton,Kharif,Alirajpur,24,30,60,100,5.952,Deep Medium Black Soil\\r\\nCotton,Kharif,Barwani,18,29,55,100,6.587,Deep Medium Black Soil\\r\\nCotton,Kharif,Burhanpur,21,27,50,95,7.157,Deep Medium Black Soil\\r\\nCotton,Kharif,Chhindwara,20,30,65,100,7.601,Shallow & Medium Black soil\\r\\nCotton,Kharif,Dewas,22,29,50,90,6.173,Deep Medium Black Soil\\r\\nCotton,Kharif,Dhar,20,32,55,95,7.247,Deep Medium Black Soil\\r\\nCotton,Kharif,Jhabua,24,29,51,97,7.77,Deep Medium Black Soil\\r\\nCotton,Kharif,Khandwa,19,30,49,93,6.14,Deep medium Black soil \\r\\nCotton,Kharif,Khargone,17,29,53,96,6.041,Deep medium Black soil \\r\\nCotton,Kharif,Ratlam,21,30,50,100,6.567,Deep medium Black soil \\r\\nGram,Rabi,Agar Malwa,23,31,69,97,8.017,Deep Medium Black Soil\\r\\nGram,Rabi,Alirajpur,24,28,65,82,7.084,Deep Medium Black Soil\\r\\nGram,Rabi,Anuppur,24,28,58,79,8.111,Deep Medium Black Soil\\r\\nGram,Rabi,Ashoknagar,24,28,66,87,8.094,Deep Medium Black Soil\\r\\nGram,Rabi,Balaghat,22,30,58,77,7.786,Mixed red & black Soil\\r\\nGram,Rabi,Barwani,26,28,69,86,8.143,Deep Medium Black Soil\\r\\nGram,Rabi,Betul,22,32,57,94,8.331,Shallow & Medium Black Soil\\r\\nGram,Rabi,Bhind,22,32,63,99,7.975,Alluvial soil\\r\\nGram,Rabi,Bhopal,21,32,55,76,7.549,Deep Medium Black Soil\\r\\nGram,Rabi,Burhanpur,23,33,63,92,7.113,Deep Medium Black Soil\\r\\nGram,Rabi,Chhatarpur,23,30,67,75,6.602,Mixed red & black Soil\\r\\nGram,Rabi,Chhindwara,24,30,62,84,7.499,Shallow & Medium Black Soil\\r\\nGram,Rabi,Damoh,23,32,68,81,7.957,Deep Medium Black Soil\\r\\nGram,Rabi,Datia,25,30,68,98,6.53,Deep Medium Black Soil\\r\\nGram,Rabi,Dewas,22,28,58,80,7.439,Deep Medium Black Soil\\r\\nGram,Rabi,Dhar,21,30,66,86,8.088,Deep Medium Black Soil\\r\\nGram,Rabi,Dindori,25,32,55,90,6.856,Mixed red & black Soil\\r\\nGram,Rabi,Guna,24,28,56,75,7.357,Deep Medium VBlack Soil\\r\\nGram,Rabi,Gwalior,22,31,55,96,8.007,Alluvial soil\\r\\nGram,Rabi,Harda,24,32,67,92,7.244,Deep Medium VBlack Soil\\r\\nGram,Rabi,Hoshangabad,22,29,63,78,7.914,Deep Medium VBlack Soil\\r\\nGram,Rabi,Indore,21,31,68,82,7.104,Deep Medium VBlack Soil\\r\\nGram,Rabi,Jabalpur,21,33,55,85,6.718,Deep Medium VBlack Soil\\r\\nGram,Rabi,Jhabua,25,31,60,79,7.191,Deep Medium VBlack Soil\\r\\nGram,Rabi,Katni,23,29,56,92,8.193,Deep Medium VBlack Soil\\r\\nGram,Rabi,Khandwa,26,33,68,77,7.714,Deep Medium VBlack Soil\\r\\nGram,Rabi,Khargone,23,30,67,79,7.984,Deep Medium VBlack Soil\\r\\nGram,Rabi,Mandla,22,33,69,91,6.874,Mixed red & black Soil\\r\\nGram,Rabi,Mandsaur,24,31,62,98,6.989,Deep Medium VBlack Soil\\r\\nGram,Rabi,Morena,23,31,68,78,8.467,Alluvial soil\\r\\nGram,Rabi,Narsinghpur,21,29,55,76,6.685,Deep Medium VBlack Soil\\r\\nGram,Rabi,Neemuch,24,28,65,82,8.43,Deep Medium VBlack Soil\\r\\nGram,Rabi,Panna,22,31,62,88,7.142,Mixed red & black Soil\\r\\nGram,Rabi,Raisen,23,33,55,75,6.705,Deep Medium Black Soil\\r\\nGram,Rabi,Rajgarh,22,29,63,88,7.986,Deep Medium Black Soil\\r\\nGram,Rabi,Ratlam,21,33,56,88,6.695,Deep Medium Black Soil\\r\\nGram,Rabi,Rewa,25,30,65,98,8.085,Mixed red & black Soil\\r\\nGram,Rabi,Sagar,26,30,68,91,7.103,Deep Medium Black Soil\\r\\nGram,Rabi,Satna,23,29,67,78,8.4,Mixed red & black Soil\\r\\nGram,Rabi,Sehore,25,33,64,94,6.536,Deep Medium Black Soil\\r\\nGram,Rabi,Seoni,24,33,59,89,7.582,Shallow & Medium Black Soil\\r\\nGram,Rabi,Shahdol,25,33,65,90,7.269,Deep Medium Black Soil\\r\\nGram,Rabi,Shajapur,26,32,64,96,7.727,Deep Meduim Black soil\\r\\nGram,Rabi,Sheopur,25,33,63,88,8.363,Deep Medium Black Soil\\r\\nGram,Rabi,Shivpuri,23,33,56,91,6.934,Deep Medium Black Soil\\r\\nGram,Rabi,Sidhi,26,29,57,79,6.803,Deep Medium Black Soil\\r\\nGram,Rabi,Singrauli,26,29,56,79,8.577,Deep Medium Black Soil\\r\\nGram,Rabi,Tikamgarh,22,29,59,90,7.571,Mixed red & black Soil\\r\\nGram,Rabi,Ujjain,26,31,61,87,7.645,Deep Medium Black Soil\\r\\nGram,Rabi,Umaria,25,28,61,80,7.707,Deep Medium Black Soil\\r\\nGram,Rabi,Vidisa,25,29,63,98,7.614,Deep Medium Black Soil\\r\\nBanana,Whole Year,Anuppur,24,34,201,253,7.282,Deep Medium Black Soil\\r\\nBanana,Whole Year,Balaghat,22,34,227,252,7.056,Mixed red & black Soil\\r\\nBanana,Whole Year,Barwani,22,32,220,243,7.612,Deep Medium Black Soil\\r\\nBanana,Whole Year,Burhanpur,22,28,217,246,6.589,Deep Medium Black Soil\\r\\nBanana,Whole Year,Damoh,17,29,220,253,7.091,Deep Medium Black Soil\\r\\nBanana,Whole Year,Dhar,22,34,203,253,7.163,Deep Medium Black Soil\\r\\nBanana,Whole Year,Hoshangabad,19,28,223,251,7.461,Deep Medium Black Soil\\r\\nBanana,Whole Year,Khandwa,24,33,219,246,6.506,Deep Medium Black Soil\\r\\nBanana,Whole Year,Khargone,20,32,228,242,7.372,Deep Medium Black Soil\\r\\nBanana,Whole Year,Ratlam,19,33,210,252,7.337,Deep Medium Black Soil\\r\\nBanana,Whole Year,Sidhi,18,30,205,248,6.707,Deep Medium Black Soil\\r\\nBanana,Whole Year,Singrauli,16,30,210,249,7.028,Deep Medium Black Soil\\r\\nPotato,Whole Year,Alirajpur,23,25,51,69,7.039,Deep Medium Black Soil\\r\\nPotato,Whole Year,Anuppur,20,27,58,71,5.856,Deep Medium Black Soil\\r\\nPotato,Whole Year,Ashoknagar,21,26,52,63,6.037,Deep Medium Black Soil\\r\\nPotato,Whole Year,Balaghat,21,24,51,66,5.829,Mixed red & black Soil\\r\\nPotato,Whole Year,Barwani,22,27,51,62,5.728,Deep Medium Black Soil\\r\\nPotato,Whole Year,Betul,23,27,49,69,6.7,Shallow & Medium Black Soil\\r\\nPotato,Whole Year,Bhind,20,27,58,69,6.43,Alluvial soil\\r\\nPotato,Whole Year,Bhopal,20,27,59,65,5.828,Deep Medium Black Soil\\r\\nPotato,Whole Year,Chhatarpur,20,24,55,69,6.797,Mixed red & black Soil\\r\\nPotato,Whole Year,Chhindwara,21,26,57,69,6.317,Shallow & Medium Black Soil\\r\\nPotato,Whole Year,Damoh,23,26,50,67,6.021,Deep Medium Black Soil\\r\\nPotato,Whole Year,Datia,23,24,55,71,5.626,Deep Medium Black Soil\\r\\nPotato,Whole Year,Dewas,23,26,55,63,6.353,Deep Medium Black Soil\\r\\nPotato,Whole Year,Dhar,22,24,59,63,6.376,Deep Medium Black Soil\\r\\nPotato,Whole Year,Dindori,23,26,54,71,6.334,Mixed red & black Soil\\r\\nPotato,Whole Year,Guna,21,26,54,68,7.076,Deep Medium Black Soil\\r\\nPotato,Whole Year,Gwalior,21,24,58,69,6.561,Alluvial soil\\r\\nPotato,Whole Year,Harda,20,27,52,63,6.939,Deep Medium Black Soil\\r\\nPotato,Whole Year,Hoshangabad,23,27,56,65,5.973,Deep Medium Black Soil\\r\\nPotato,Whole Year,Indore,23,26,57,67,6.09,Deep Medium Black Soil\\r\\nPotato,Whole Year,Jabalpur,21,27,50,68,6.715,Deep Medium Black Soil\\r\\nPotato,Whole Year,Jhabua,22,24,58,70,6.657,Deep Medium Black Soil\\r\\nPotato,Whole Year,Katni,20,24,59,69,7.065,Deep Medium Black Soil\\r\\nPotato,Whole Year,Khandwa,22,27,57,66,6.109,Deep Medium Black Soil\\r\\nPotato,Whole Year,Khargone,20,27,57,67,5.987,Deep Medium Black Soil\\r\\nPotato,Whole Year,Mandla,23,24,53,69,6.498,Mixed red & black Soil\\r\\nPotato,Whole Year,Mandsaur,23,24,50,66,6.86,Deep Medium Black Soil\\r\\nPotato,Whole Year,Morena,23,25,56,67,7.024,Alluvial soil\\r\\nPotato,Whole Year,Narsinghpur,21,26,52,62,5.75,Deep Medium Black Soil\\r\\nPotato,Whole Year,Neemuch,23,24,58,69,6.355,Deep Medium Black Soil\\r\\nPotato,Whole Year,Panna,20,24,49,69,6.226,Mixed red & black Soil\\r\\nPotato,Whole Year,Raisen,21,26,59,67,6.737,Deep Medium Black Soil\\r\\nPotato,Whole Year,Rajgarh,23,27,53,63,6.759,Deep Medium Black Soil\\r\\nPotato,Whole Year,Ratlam,22,25,56,66,6.839,Deep Medium Black Soil\\r\\nPotato,Whole Year,Sagar,22,24,56,63,5.61,Deep Medium Black Soil\\r\\nPotato,Whole Year,Satna,21,27,49,66,5.709,Mixed red & black Soil\\r\\nPotato,Whole Year,Sehore,23,25,59,64,6.052,Deep Medium Black Soil\\r\\nPotato,Whole Year,Seoni,20,27,51,63,5.866,Shallow & Medium Black Soil\\r\\nPotato,Whole Year,Shahdol,20,24,56,70,5.585,Deep Medium Black Soil\\r\\nPotato,Whole Year,Shajapur,20,26,51,66,6.753,Deep Medium Black Soil\\r\\nPotato,Whole Year,Sheopur,21,27,53,63,6.631,Deep Medium Black Soil\\r\\nPotato,Whole Year,Shivpuri,21,27,50,65,6.357,Deep Medium Black Soil\\r\\nPotato,Whole Year,Sidhi,23,26,56,70,6.116,Deep Medium Black Soil\\r\\nPotato,Whole Year,Singrauli,23,27,52,71,6.277,Deep Medium Black Soil\\r\\nPotato,Whole Year,Tikamgarh,20,24,58,63,6.828,Mixed red & black Soil\\r\\nPotato,Whole Year,Ujjain,21,24,49,70,6.445,Deep Medium Black Soil\\r\\nPotato,Whole Year,Umaria,23,25,59,62,5.983,Deep Medium Black Soil\\r\\nPotato,Whole Year,Vidisha,22,26,53,65,5.56,Deep Medium Black Soil\\r\\nArhar/Tur,Kharif ,Agar Malwa,18,30,59,63,7.131,Deep Medium Black Soil\\r\\nArhar/Tur,Kharif ,Alirajpur,15,30,54,62,6.983,Deep Medium Black Soil\\r\\nArhar/Tur,Kharif ,Anuppur,16,34,60,61,7.472,Deep Medium Black Soil\\r\\nArhar/Tur,Kharif ,Ashoknagar,16,30,59,62,7.224,Deep Medium Black Soil\\r\\nArhar/Tur,Kharif ,Balaghat,15,33,60,64,7.256,Mixed red & black Soil\\r\\nArhar/Tur,Kharif ,Barwani,18,30,60,61,7.119,Deep Medium Black Soil\\r\\nArhar/Tur,Kharif ,Betul,17,35,59,62,7.41,Shallow & Medium Black Soil\\r\\nArhar/Tur,Kharif ,Bhind,15,31,59,61,6.696,Alluvial soil\\r\\nArhar/Tur,Kharif ,Bhopal,16,33,58,62,7.168,Deep Medium Black Soil\\r\\nArhar/Tur,Kharif,Burhanpur,18,35,60,63,7.473,Deep Medium Black Soil\\r\\nArhar/Tur,Kharif,Chhatarpur,18,30,59,62,6.749,Deep Medium Black Soil\\r\\nArhar/Tur,Kharif,Chhindwara,15,35,58,63,6.928,Deep Medium Black Soil\\r\\nArhar/Tur,Kharif,Damoh,16,31,58,61,7.352,Deep Medium Black Soil\\r\\nArhar/Tur,Kharif,Datia,18,34,58,61,6.603,Deep Medium Black Soil\\r\\nArhar/Tur,Kharif,Dewas,17,33,56,61,6.837,Deep Medium Black Soil\\r\\nArhar/Tur,Kharif,Dhar,17,35,60,64,6.71,Deep Medium Black Soil\\r\\nArhar/Tur,Kharif,Dindori,17,31,58,61,7.581,Deep Medium Black Soil\\r\\nArhar/Tur,Kharif,Guna,18,30,59,64,7.224,Deep Medium Black Soil\\r\\nArhar/Tur,Kharif,Gwalior,18,35,54,63,6.843,Shallow & Medium Black Soil\\r\\nArhar/Tur,Kharif,Harda,16,30,57,63,7.045,Deep Medium Black Soil\\r\\nCoriander,Whole Year,Balaghat,21,28,79,100,6.842,Deep Medium Black Soil\\r\\nCoriander,Whole Year,Barwani,22,26,84,99,6.656,Deep Medium Black Soil\\r\\nCoriander,Whole Year,Betul,24,27,84,95,6.804,Deep Medium Black Soil\\r\\nCoriander,Whole Year,Bhind,25,27,82,91,6.447,Deep Medium Black Soil\\r\\nCoriander,Whole Year,Bhopal,21,26,77,89,6.629,Deep Medium Black Soil\\r\\nCoriander,Whole Year,Burhanpur,24,30,84,96,6.493,Shallow & Medium Black Soil\\r\\nCoriander,Whole Year,Chhatarpur,22,28,80,94,6.227,Shallow & Medium Black Soil\\r\\nCoriander,Whole Year,Chhindwara,22,28,82,88,6.371,Mixed red & black Soil\\r\\nCoriander,Whole Year,Damoh,23,29,75,92,6.656,Deep Medium Black Soil\\r\\nCoriander,Whole Year,Datia,21,26,80,95,6.437,Deep Medium Black Soil\\r\\nCoriander,Whole Year,Dewas,25,29,81,102,6.66,Deep Medium Black Soil\\r\\nCoriander,Whole Year,Dhar,23,30,75,100,6.381,Deep Medium Black Soil\\r\\nCoriander,Whole Year,Dindori,25,29,78,94,6.33,Deep Medium Black Soil\\r\\nCoriander,Whole Year,Guna,25,28,82,101,6.689,Deep Medium Black Soil\\r\\nCoriander,Whole Year,Gwalior,24,27,84,94,6.779,Alluvial soil\\r\\nCoriander,Whole Year,Harda,25,27,81,95,6.251,Deep Medium Black Soil\\r\\nCoriander,Whole Year,Hoshangabad,24,26,83,96,6.593,Shallow & Medium Black Soil\\r\\nCoriander,Whole Year,Indore,20,26,81,101,6.339,Deep Medium Black Soil\\r\\nCoriander,Whole Year,Jabalpur,24,30,75,100,6.632,Deep Medium Black Soil\\r\\nCoriander,Whole Year,Jhabua,25,30,83,92,6.775,Deep Medium Black Soil\\r\\nCoriander,Whole Year,Katni,23,29,76,92,6.786,Shallow & Medium Black Soil\\r\\nCoriander,Whole Year,Khandwa,21,27,83,97,6.896,Shallow & Medium Black Soil\\r\\nCoriander,Whole Year,Khargone,23,30,76,97,6.78,Mixed red & black Soil\\r\\nMaize,Kharif ,Sagar,22,27,55,90,6.742,Deep Medium Black Soil\\r\\nMaize,Kharif ,Satna,23,25,53,98,5.975,Deep Medium Black Soil\\r\\nMaize,Kharif ,Sehore,21,27,56,91,6.777,Deep Medium Black Soil\\r\\nMaize,Kharif ,Seoni,25,27,51,88,5.885,Mixed red & black Soil\\r\\nMaize,Kharif ,Shahdol,19,28,59,100,6.871,Mixed red & black Soil\\r\\nMaize,Kharif ,Shajapur,22,28,53,93,6.097,Shallow & Medium Black Soil\\r\\nMaize,Kharif ,Sheopur,25,25,60,93,5.889,Deep Medium Black Soil\\r\\nMaize,Kharif ,Shivpuri,22,27,51,98,6.246,Shallow & Medium Black Soil\\r\\nMaize,Kharif ,Sidhi,20,26,55,87,5.929,Mixed red & black Soil\\r\\nMaize,Kharif,Singrauli,24,26,55,90,6.385,Deep Medium Black Soil\\r\\nMaize,Kharif,Tikamgarh,26,28,49,88,5.849,Deep Medium Black Soil\\r\\nMaize,Kharif,Ujjain,22,28,61,86,6.612,Deep Medium Black Soil\\r\\nMaize,Kharif,Umaria,25,25,64,91,6.559,Deep Medium Black Soil\\r\\nMaize,Kharif,Vidisha,19,27,55,85,6.707,Deep Medium Black Soil\\r\\nBajara ,Kharif ,Alirajpur,26,28,50,70,6.173,black cotton\\r\\nBajara ,Kharif ,Barwani,25,27,48,71,5.896,Medium Black Soil\\r\\nBajara ,Kharif ,Bhind,24,28,45,65,6.192,Alluvial soil\\r\\nBajara ,Kharif ,Datia,25,28,40,60,5.886,Deep Medium Black Soil\\r\\nBajara ,Kharif ,Dhar,23,25,41,76,6.332,Deep Medium Black Soil\\r\\nBajara ,Kharif ,Gwalior,20,27,50,60,5.585,Alluvial soil\\r\\nBajara ,Kharif ,Morena,23,26,40,75,5.867,Alluvial soil\\r\\nBajara ,Kharif ,Sheopur,25,30,45,60,6.525,Mixed Red & Black Soil\\r\\nBajara ,Kharif ,Shivpuri,20,30,40,70,6.555,Medium and Deep Black soil and Alluvial Soil\\r\\nCotton,Kharif,Alirajpur,24,30,60,100,5.952,Deep Medium Black Soil\\r\\nCotton,Kharif,Barwani,18,29,55,100,6.587,Deep Medium Black Soil\\r\\nCotton,Kharif,Burhanpur,21,27,50,95,7.157,Deep Medium Black Soil\\r\\nCotton,Kharif,Chhindwara,20,30,65,100,7.601,Shallow & Medium Black soil\\r\\nCotton,Kharif,Dewas,22,29,50,90,6.173,Deep Medium Black Soil\\r\\nCotton,Kharif,Dhar,20,32,55,95,7.247,Deep Medium Black Soil\\r\\nCotton,Kharif,Jhabua,24,29,51,97,7.77,Deep Medium Black Soil\\r\\nCotton,Kharif,Khandwa,19,30,49,93,6.14,Deep medium Black soil \\r\\nCotton,Kharif,Khargone,17,29,53,96,6.041,Deep medium Black soil \\r\\nCotton,Kharif,Ratlam,21,30,50,100,6.567,Deep medium Black soil \\r\\nGram,Rabi,Agar Malwa,23,31,69,97,8.017,Deep Medium Black Soil\\r\\nGram,Rabi,Alirajpur,24,28,65,82,7.084,Deep Medium Black Soil\\r\\nGram,Rabi,Anuppur,24,28,58,79,8.111,Deep Medium Black Soil\\r\\nGram,Rabi,Ashoknagar,24,28,66,87,8.094,Deep Medium Black Soil\\r\\nGram,Rabi,Balaghat,22,30,58,77,7.786,Mixed red & black Soil\\r\\nGram,Rabi,Barwani,26,28,69,86,8.143,Deep Medium Black Soil\\r\\nGram,Rabi,Betul,22,32,57,94,8.331,Shallow & Medium Black Soil\\r\\nGram,Rabi,Bhind,22,32,63,99,7.975,Alluvial soil\\r\\nGram,Rabi,Bhopal,21,32,55,76,7.549,Deep Medium Black Soil\\r\\nGram,Rabi,Burhanpur,23,33,63,92,7.113,Deep Medium Black Soil\\r\\nGram,Rabi,Chhatarpur,23,30,67,75,6.602,Mixed red & black Soil\\r\\nGram,Rabi,Chhindwara,24,30,62,84,7.499,Shallow & Medium Black Soil\\r\\nGram,Rabi,Damoh,23,32,68,81,7.957,Deep Medium Black Soil\\r\\nGram,Rabi,Datia,25,30,68,98,6.53,Deep Medium Black Soil\\r\\nGram,Rabi,Dewas,22,28,58,80,7.439,Deep Medium Black Soil\\r\\nGram,Rabi,Dhar,21,30,66,86,8.088,Deep Medium Black Soil\\r\\nGram,Rabi,Dindori,25,32,55,90,6.856,Mixed red & black Soil\\r\\nGram,Rabi,Guna,24,28,56,75,7.357,Deep Medium VBlack Soil\\r\\nGram,Rabi,Gwalior,22,31,55,96,8.007,Alluvial soil\\r\\nGram,Rabi,Harda,24,32,67,92,7.244,Deep Medium VBlack Soil\\r\\nGram,Rabi,Hoshangabad,22,29,63,78,7.914,Deep Medium VBlack Soil\\r\\nGram,Rabi,Indore,21,31,68,82,7.104,Deep Medium VBlack Soil\\r\\nGram,Rabi,Jabalpur,21,33,55,85,6.718,Deep Medium VBlack Soil\\r\\nGram,Rabi,Jhabua,25,31,60,79,7.191,Deep Medium VBlack Soil\\r\\nGram,Rabi,Katni,23,29,56,92,8.193,Deep Medium VBlack Soil\\r\\nGram,Rabi,Khandwa,26,33,68,77,7.714,Deep Medium VBlack Soil\\r\\nGram,Rabi,Khargone,23,30,67,79,7.984,Deep Medium VBlack Soil\\r\\nGram,Rabi,Mandla,22,33,69,91,6.874,Mixed red & black Soil\\r\\nGram,Rabi,Mandsaur,24,31,62,98,6.989,Deep Medium VBlack Soil\\r\\nGram,Rabi,Morena,23,31,68,78,8.467,Alluvial soil\\r\\nGram,Rabi,Narsinghpur,21,29,55,76,6.685,Deep Medium VBlack Soil\\r\\nGram,Rabi,Neemuch,24,28,65,82,8.43,Deep Medium VBlack Soil\\r\\nGram,Rabi,Panna,22,31,62,88,7.142,Mixed red & black Soil\\r\\nGram,Rabi,Raisen,23,33,55,75,6.705,Deep Medium Black Soil\\r\\nGram,Rabi,Rajgarh,22,29,63,88,7.986,Deep Medium Black Soil\\r\\nGram,Rabi,Ratlam,21,33,56,88,6.695,Deep Medium Black Soil\\r\\nGram,Rabi,Rewa,25,30,65,98,8.085,Mixed red & black Soil\\r\\nGram,Rabi,Sagar,26,30,68,91,7.103,Deep Medium Black Soil\\r\\nGram,Rabi,Satna,23,29,67,78,8.4,Mixed red & black Soil\\r\\nGram,Rabi,Sehore,25,33,64,94,6.536,Deep Medium Black Soil\\r\\nGram,Rabi,Seoni,24,33,59,89,7.582,Shallow & Medium Black Soil\\r\\nGram,Rabi,Shahdol,25,33,65,90,7.269,Deep Medium Black Soil\\r\\nGram,Rabi,Shajapur,26,32,64,96,7.727,Deep Meduim Black soil\\r\\nGram,Rabi,Sheopur,25,33,63,88,8.363,Deep Medium Black Soil\\r\\nGram,Rabi,Shivpuri,23,33,56,91,6.934,Deep Medium Black Soil\\r\\nGram,Rabi,Sidhi,26,29,57,79,6.803,Deep Medium Black Soil\\r\\nGram,Rabi,Singrauli,26,29,56,79,8.577,Deep Medium Black Soil\\r\\nGram,Rabi,Tikamgarh,22,29,59,90,7.571,Mixed red & black Soil\\r\\nGram,Rabi,Ujjain,26,31,61,87,7.645,Deep Medium Black Soil\\r\\nGram,Rabi,Umaria,25,28,61,80,7.707,Deep Medium Black Soil\\r\\nGram,Rabi,Vidisa,25,29,63,98,7.614,Deep Medium Black Soil\\r\\nBanana,Whole Year,Anuppur,24,34,201,253,7.282,Deep Medium Black Soil\\r\\nBanana,Whole Year,Balaghat,22,34,227,252,7.056,Mixed red & black Soil\\r\\nBanana,Whole Year,Barwani,22,32,220,243,7.612,Deep Medium Black Soil\\r\\nBanana,Whole Year,Burhanpur,22,28,217,246,6.589,Deep Medium Black Soil\\r\\nBanana,Whole Year,Damoh,17,29,220,253,7.091,Deep Medium Black Soil\\r\\nBanana,Whole Year,Dhar,22,34,203,253,7.163,Deep Medium Black Soil\\r\\nBanana,Whole Year,Hoshangabad,19,28,223,251,7.461,Deep Medium Black Soil\\r\\nBanana,Whole Year,Khandwa,24,33,219,246,6.506,Deep Medium Black Soil\\r\\nBanana,Whole Year,Khargone,20,32,228,242,7.372,Deep Medium Black Soil\\r\\nBanana,Whole Year,Ratlam,19,33,210,252,7.337,Deep Medium Black Soil\\r\\nBanana,Whole Year,Sidhi,18,30,205,248,6.707,Deep Medium Black Soil\\r\\nBanana,Whole Year,Singrauli,16,30,210,249,7.028,Deep Medium Black Soil\\r\\nPotato,Whole Year,Alirajpur,23,25,51,69,7.039,Deep Medium Black Soil\\r\\nPotato,Whole Year,Anuppur,20,27,58,71,5.856,Deep Medium Black Soil\\r\\nPotato,Whole Year,Ashoknagar,21,26,52,63,6.037,Deep Medium Black Soil\\r\\nPotato,Whole Year,Balaghat,21,24,51,66,5.829,Mixed red & black Soil\\r\\nPotato,Whole Year,Barwani,22,27,51,62,5.728,Deep Medium Black Soil\\r\\nPotato,Whole Year,Betul,23,27,49,69,6.7,Shallow & Medium Black Soil\\r\\nPotato,Whole Year,Bhind,20,27,58,69,6.43,Alluvial soil\\r\\nPotato,Whole Year,Bhopal,20,27,59,65,5.828,Deep Medium Black Soil\\r\\nPotato,Whole Year,Chhatarpur,20,24,55,69,6.797,Mixed red & black Soil\\r\\nPotato,Whole Year,Chhindwara,21,26,57,69,6.317,Shallow & Medium Black Soil\\r\\nPotato,Whole Year,Damoh,23,26,50,67,6.021,Deep Medium Black Soil\\r\\nPotato,Whole Year,Datia,23,24,55,71,5.626,Deep Medium Black Soil\\r\\nPotato,Whole Year,Dewas,23,26,55,63,6.353,Deep Medium Black Soil\\r\\nPotato,Whole Year,Dhar,22,24,59,63,6.376,Deep Medium Black Soil\\r\\nPotato,Whole Year,Dindori,23,26,54,71,6.334,Mixed red & black Soil\\r\\nPotato,Whole Year,Guna,21,26,54,68,7.076,Deep Medium Black Soil\\r\\nPotato,Whole Year,Gwalior,21,24,58,69,6.561,Alluvial soil\\r\\nPotato,Whole Year,Harda,20,27,52,63,6.939,Deep Medium Black Soil\\r\\nPotato,Whole Year,Hoshangabad,23,27,56,65,5.973,Deep Medium Black Soil\\r\\nPotato,Whole Year,Indore,23,26,57,67,6.09,Deep Medium Black Soil\\r\\nPotato,Whole Year,Jabalpur,21,27,50,68,6.715,Deep Medium Black Soil\\r\\nPotato,Whole Year,Jhabua,22,24,58,70,6.657,Deep Medium Black Soil\\r\\nPotato,Whole Year,Katni,20,24,59,69,7.065,Deep Medium Black Soil\\r\\nPotato,Whole Year,Khandwa,22,27,57,66,6.109,Deep Medium Black Soil\\r\\nPotato,Whole Year,Khargone,20,27,57,67,5.987,Deep Medium Black Soil\\r\\nPotato,Whole Year,Mandla,23,24,53,69,6.498,Mixed red & black Soil\\r\\nPotato,Whole Year,Mandsaur,23,24,50,66,6.86,Deep Medium Black Soil\\r\\nPotato,Whole Year,Morena,23,25,56,67,7.024,Alluvial soil\\r\\nPotato,Whole Year,Narsinghpur,21,26,52,62,5.75,Deep Medium Black Soil\\r\\nPotato,Whole Year,Neemuch,23,24,58,69,6.355,Deep Medium Black Soil\\r\\nPotato,Whole Year,Panna,20,24,49,69,6.226,Mixed red & black Soil\\r\\nPotato,Whole Year,Raisen,21,26,59,67,6.737,Deep Medium Black Soil\\r\\nPotato,Whole Year,Rajgarh,23,27,53,63,6.759,Deep Medium Black Soil\\r\\nPotato,Whole Year,Ratlam,22,25,56,66,6.839,Deep Medium Black Soil\\r\\nPotato,Whole Year,Sagar,22,24,56,63,5.61,Deep Medium Black Soil\\r\\nPotato,Whole Year,Satna,21,27,49,66,5.709,Mixed red & black Soil\\r\\nPotato,Whole Year,Sehore,23,25,59,64,6.052,Deep Medium Black Soil\\r\\nPotato,Whole Year,Seoni,20,27,51,63,5.866,Shallow & Medium Black Soil\\r\\nPotato,Whole Year,Shahdol,20,24,56,70,5.585,Deep Medium Black Soil\\r\\nPotato,Whole Year,Shajapur,20,26,51,66,6.753,Deep Medium Black Soil\\r\\nPotato,Whole Year,Sheopur,21,27,53,63,6.631,Deep Medium Black Soil\\r\\nPotato,Whole Year,Shivpuri,21,27,50,65,6.357,Deep Medium Black Soil\\r\\nPotato,Whole Year,Sidhi,23,26,56,70,6.116,Deep Medium Black Soil\\r\\nPotato,Whole Year,Singrauli,23,27,52,71,6.277,Deep Medium Black Soil\\r\\nPotato,Whole Year,Tikamgarh,20,24,58,63,6.828,Mixed red & black Soil\\r\\nPotato,Whole Year,Ujjain,21,24,49,70,6.445,Deep Medium Black Soil\\r\\nPotato,Whole Year,Umaria,23,25,59,62,5.983,Deep Medium Black Soil\\r\\nPotato,Whole Year,Vidisha,22,26,53,65,5.56,Deep Medium Black Soil\\r\\nArhar/Tur,Kharif ,Agar Malwa,18,30,59,63,7.131,Deep Medium Black Soil\\r\\nArhar/Tur,Kharif ,Alirajpur,15,30,54,62,6.983,Deep Medium Black Soil\\r\\nArhar/Tur,Kharif ,Anuppur,16,34,60,61,7.472,Deep Medium Black Soil\\r\\nArhar/Tur,Kharif ,Ashoknagar,16,30,59,62,7.224,Deep Medium Black Soil\\r\\nArhar/Tur,Kharif ,Balaghat,15,33,60,64,7.256,Mixed red & black Soil\\r\\nArhar/Tur,Kharif ,Barwani,18,30,60,61,7.119,Deep Medium Black Soil\\r\\nArhar/Tur,Kharif ,Betul,17,35,59,62,7.41,Shallow & Medium Black Soil\\r\\nArhar/Tur,Kharif ,Bhind,15,31,59,61,6.696,Alluvial soil\\r\\nArhar/Tur,Kharif ,Bhopal,16,33,58,62,7.168,Deep Medium Black Soil\\r\\nArhar/Tur,Kharif,Burhanpur,18,35,60,63,7.473,Deep Medium Black Soil\\r\\nArhar/Tur,Kharif,Chhatarpur,18,30,59,62,6.749,Deep Medium Black Soil\\r\\nArhar/Tur,Kharif,Chhindwara,15,35,58,63,6.928,Deep Medium Black Soil\\r\\nArhar/Tur,Kharif,Damoh,16,31,58,61,7.352,Deep Medium Black Soil\\r\\nArhar/Tur,Kharif,Datia,18,34,58,61,6.603,Deep Medium Black Soil\\r\\nArhar/Tur,Kharif,Dewas,17,33,56,61,6.837,Deep Medium Black Soil\\r\\nArhar/Tur,Kharif,Dhar,17,35,60,64,6.71,Deep Medium Black Soil\\r\\nArhar/Tur,Kharif,Dindori,17,31,58,61,7.581,Deep Medium Black Soil\\r\\nArhar/Tur,Kharif,Guna,18,30,59,64,7.224,Deep Medium Black Soil\\r\\nArhar/Tur,Kharif,Gwalior,18,35,54,63,6.843,Shallow & Medium Black Soil\\r\\nArhar/Tur,Kharif,Harda,16,30,57,63,7.045,Deep Medium Black Soil\\r\\nCoriander,Whole Year,Balaghat,21,28,79,100,6.842,Deep Medium Black Soil\\r\\nCoriander,Whole Year,Barwani,22,26,84,99,6.656,Deep Medium Black Soil\\r\\nCoriander,Whole Year,Betul,24,27,84,95,6.804,Deep Medium Black Soil\\r\\nCoriander,Whole Year,Bhind,25,27,82,91,6.447,Deep Medium Black Soil\\r\\nCoriander,Whole Year,Bhopal,21,26,77,89,6.629,Deep Medium Black Soil\\r\\nCoriander,Whole Year,Burhanpur,24,30,84,96,6.493,Shallow & Medium Black Soil\\r\\nCoriander,Whole Year,Chhatarpur,22,28,80,94,6.227,Shallow & Medium Black Soil\\r\\nCoriander,Whole Year,Chhindwara,22,28,82,88,6.371,Mixed red & black Soil\\r\\nCoriander,Whole Year,Damoh,23,29,75,92,6.656,Deep Medium Black Soil\\r\\nCoriander,Whole Year,Datia,21,26,80,95,6.437,Deep Medium Black Soil\\r\\nCoriander,Whole Year,Dewas,25,29,81,102,6.66,Deep Medium Black Soil\\r\\nCoriander,Whole Year,Dhar,23,30,75,100,6.381,Deep Medium Black Soil\\r\\nCoriander,Whole Year,Dindori,25,29,78,94,6.33,Deep Medium Black Soil\\r\\nCoriander,Whole Year,Guna,25,28,82,101,6.689,Deep Medium Black Soil\\r\\nCoriander,Whole Year,Gwalior,24,27,84,94,6.779,Alluvial soil\\r\\nCoriander,Whole Year,Harda,25,27,81,95,6.251,Deep Medium Black Soil\\r\\nCoriander,Whole Year,Hoshangabad,24,26,83,96,6.593,Shallow & Medium Black Soil\\r\\nCoriander,Whole Year,Indore,20,26,81,101,6.339,Deep Medium Black Soil\\r\\nCoriander,Whole Year,Jabalpur,24,30,75,100,6.632,Deep Medium Black Soil\\r\\nCoriander,Whole Year,Jhabua,25,30,83,92,6.775,Deep Medium Black Soil\\r\\nCoriander,Whole Year,Katni,23,29,76,92,6.786,Shallow & Medium Black Soil\\r\\nCoriander,Whole Year,Khandwa,21,27,83,97,6.896,Shallow & Medium Black Soil\\r\\nCoriander,Whole Year,Khargone,23,30,76,97,6.78,Mixed red & black Soil\\r\\nMaize,Kharif ,Sagar,22,27,55,90,6.742,Deep Medium Black Soil\\r\\nMaize,Kharif ,Satna,23,25,53,98,5.975,Deep Medium Black Soil\\r\\nMaize,Kharif ,Sehore,21,27,56,91,6.777,Deep Medium Black Soil\\r\\nMaize,Kharif ,Seoni,25,27,51,88,5.885,Mixed red & black Soil\\r\\nMaize,Kharif ,Shahdol,19,28,59,100,6.871,Mixed red & black Soil\\r\\nMaize,Kharif ,Shajapur,22,28,53,93,6.097,Shallow & Medium Black Soil\\r\\nMaize,Kharif ,Sheopur,25,25,60,93,5.889,Deep Medium Black Soil\\r\\nMaize,Kharif ,Shivpuri,22,27,51,98,6.246,Shallow & Medium Black Soil\\r\\nMaize,Kharif ,Sidhi,20,26,55,87,5.929,Mixed red & black Soil\\r\\nMaize,Kharif,Singrauli,24,26,55,90,6.385,Deep Medium Black Soil\\r\\nMaize,Kharif,Tikamgarh,26,28,49,88,5.849,Deep Medium Black Soil\\r\\nMaize,Kharif,Ujjain,22,28,61,86,6.612,Deep Medium Black Soil\\r\\nMaize,Kharif,Umaria,25,25,64,91,6.559,Deep Medium Black Soil\\r\\nMaize,Kharif,Vidisha,19,27,55,85,6.707,Deep Medium Black Soil\\r\\nBajara ,Kharif ,Alirajpur,26,28,50,70,6.173,black cotton\\r\\nBajara ,Kharif ,Barwani,25,27,48,71,5.896,Medium Black Soil\\r\\nBajara ,Kharif ,Bhind,24,28,45,65,6.192,Alluvial soil\\r\\nBajara ,Kharif ,Datia,25,28,40,60,5.886,Deep Medium Black Soil\\r\\nBajara ,Kharif ,Dhar,23,25,41,76,6.332,Deep Medium Black Soil\\r\\nBajara ,Kharif ,Gwalior,20,27,50,60,5.585,Alluvial soil\\r\\nBajara ,Kharif ,Morena,23,26,40,75,5.867,Alluvial soil\\r\\nBajara ,Kharif ,Sheopur,25,30,45,60,6.525,Mixed Red & Black Soil\\r\\nBajara ,Kharif ,Shivpuri,20,30,40,70,6.555,Medium and Deep Black soil and Alluvial Soil\\r\\nCotton,Kharif,Alirajpur,24,30,60,100,5.952,Deep Medium Black Soil\\r\\nCotton,Kharif,Barwani,18,29,55,100,6.587,Deep Medium Black Soil\\r\\nCotton,Kharif,Burhanpur,21,27,50,95,7.157,Deep Medium Black Soil\\r\\nCotton,Kharif,Chhindwara,20,30,65,100,7.601,Shallow & Medium Black soil\\r\\nCotton,Kharif,Dewas,22,29,50,90,6.173,Deep Medium Black Soil\\r\\nCotton,Kharif,Dhar,20,32,55,95,7.247,Deep Medium Black Soil\\r\\nCotton,Kharif,Jhabua,24,29,51,97,7.77,Deep Medium Black Soil\\r\\nCotton,Kharif,Khandwa,19,30,49,93,6.14,Deep medium Black soil \\r\\nCotton,Kharif,Khargone,17,29,53,96,6.041,Deep medium Black soil \\r\\nCotton,Kharif,Ratlam,21,30,50,100,6.567,Deep medium Black soil \\r\\nGram,Rabi,Agar Malwa,23,31,69,97,8.017,Deep Medium Black Soil\\r\\nGram,Rabi,Alirajpur,24,28,65,82,7.084,Deep Medium Black Soil\\r\\nGram,Rabi,Anuppur,24,28,58,79,8.111,Deep Medium Black Soil\\r\\nGram,Rabi,Ashoknagar,24,28,66,87,8.094,Deep Medium Black Soil\\r\\nGram,Rabi,Balaghat,22,30,58,77,7.786,Mixed red & black Soil\\r\\nGram,Rabi,Barwani,26,28,69,86,8.143,Deep Medium Black Soil\\r\\nGram,Rabi,Betul,22,32,57,94,8.331,Shallow & Medium Black Soil\\r\\nGram,Rabi,Bhind,22,32,63,99,7.975,Alluvial soil\\r\\nGram,Rabi,Bhopal,21,32,55,76,7.549,Deep Medium Black Soil\\r\\nGram,Rabi,Burhanpur,23,33,63,92,7.113,Deep Medium Black Soil\\r\\nGram,Rabi,Chhatarpur,23,30,67,75,6.602,Mixed red & black Soil\\r\\nGram,Rabi,Chhindwara,24,30,62,84,7.499,Shallow & Medium Black Soil\\r\\nGram,Rabi,Damoh,23,32,68,81,7.957,Deep Medium Black Soil\\r\\nGram,Rabi,Datia,25,30,68,98,6.53,Deep Medium Black Soil\\r\\nGram,Rabi,Dewas,22,28,58,80,7.439,Deep Medium Black Soil\\r\\nGram,Rabi,Dhar,21,30,66,86,8.088,Deep Medium Black Soil\\r\\nGram,Rabi,Dindori,25,32,55,90,6.856,Mixed red & black Soil\\r\\nGram,Rabi,Guna,24,28,56,75,7.357,Deep Medium VBlack Soil\\r\\nGram,Rabi,Gwalior,22,31,55,96,8.007,Alluvial soil\\r\\nGram,Rabi,Harda,24,32,67,92,7.244,Deep Medium VBlack Soil\\r\\nGram,Rabi,Hoshangabad,22,29,63,78,7.914,Deep Medium VBlack Soil\\r\\nGram,Rabi,Indore,21,31,68,82,7.104,Deep Medium VBlack Soil\\r\\nGram,Rabi,Jabalpur,21,33,55,85,6.718,Deep Medium VBlack Soil\\r\\nGram,Rabi,Jhabua,25,31,60,79,7.191,Deep Medium VBlack Soil\\r\\nGram,Rabi,Katni,23,29,56,92,8.193,Deep Medium VBlack Soil\\r\\nGram,Rabi,Khandwa,26,33,68,77,7.714,Deep Medium VBlack Soil\\r\\nGram,Rabi,Khargone,23,30,67,79,7.984,Deep Medium VBlack Soil\\r\\nGram,Rabi,Mandla,22,33,69,91,6.874,Mixed red & black Soil\\r\\nGram,Rabi,Mandsaur,24,31,62,98,6.989,Deep Medium VBlack Soil\\r\\nGram,Rabi,Morena,23,31,68,78,8.467,Alluvial soil\\r\\nGram,Rabi,Narsinghpur,21,29,55,76,6.685,Deep Medium VBlack Soil\\r\\nGram,Rabi,Neemuch,24,28,65,82,8.43,Deep Medium VBlack Soil\\r\\nGram,Rabi,Panna,22,31,62,88,7.142,Mixed red & black Soil\\r\\nGram,Rabi,Raisen,23,33,55,75,6.705,Deep Medium Black Soil\\r\\nGram,Rabi,Rajgarh,22,29,63,88,7.986,Deep Medium Black Soil\\r\\nGram,Rabi,Ratlam,21,33,56,88,6.695,Deep Medium Black Soil\\r\\nGram,Rabi,Rewa,25,30,65,98,8.085,Mixed red & black Soil\\r\\nGram,Rabi,Sagar,26,30,68,91,7.103,Deep Medium Black Soil\\r\\nGram,Rabi,Satna,23,29,67,78,8.4,Mixed red & black Soil\\r\\nGram,Rabi,Sehore,25,33,64,94,6.536,Deep Medium Black Soil\\r\\nGram,Rabi,Seoni,24,33,59,89,7.582,Shallow & Medium Black Soil\\r\\nGram,Rabi,Shahdol,25,33,65,90,7.269,Deep Medium Black Soil\\r\\nGram,Rabi,Shajapur,26,32,64,96,7.727,Deep Meduim Black soil\\r\\nGram,Rabi,Sheopur,25,33,63,88,8.363,Deep Medium Black Soil\\r\\nGram,Rabi,Shivpuri,23,33,56,91,6.934,Deep Medium Black Soil\\r\\nGram,Rabi,Sidhi,26,29,57,79,6.803,Deep Medium Black Soil\\r\\nGram,Rabi,Singrauli,26,29,56,79,8.577,Deep Medium Black Soil\\r\\nGram,Rabi,Tikamgarh,22,29,59,90,7.571,Mixed red & black Soil\\r\\nGram,Rabi,Ujjain,26,31,61,87,7.645,Deep Medium Black Soil\\r\\nGram,Rabi,Umaria,25,28,61,80,7.707,Deep Medium Black Soil\\r\\nGram,Rabi,Vidisa,25,29,63,98,7.614,Deep Medium Black Soil\\r\\nBanana,Whole Year,Anuppur,24,34,201,253,7.282,Deep Medium Black Soil\\r\\nBanana,Whole Year,Balaghat,22,34,227,252,7.056,Mixed red & black Soil\\r\\nBanana,Whole Year,Barwani,22,32,220,243,7.612,Deep Medium Black Soil\\r\\nBanana,Whole Year,Burhanpur,22,28,217,246,6.589,Deep Medium Black Soil\\r\\nBanana,Whole Year,Damoh,17,29,220,253,7.091,Deep Medium Black Soil\\r\\nBanana,Whole Year,Dhar,22,34,203,253,7.163,Deep Medium Black Soil\\r\\nBanana,Whole Year,Hoshangabad,19,28,223,251,7.461,Deep Medium Black Soil\\r\\nBanana,Whole Year,Khandwa,24,33,219,246,6.506,Deep Medium Black Soil\\r\\nBanana,Whole Year,Khargone,20,32,228,242,7.372,Deep Medium Black Soil\\r\\nBanana,Whole Year,Ratlam,19,33,210,252,7.337,Deep Medium Black Soil\\r\\nBanana,Whole Year,Sidhi,18,30,205,248,6.707,Deep Medium Black Soil\\r\\nBanana,Whole Year,Singrauli,16,30,210,249,7.028,Deep Medium Black Soil\\r\\nPotato,Whole Year,Alirajpur,23,25,51,69,7.039,Deep Medium Black Soil\\r\\nPotato,Whole Year,Anuppur,20,27,58,71,5.856,Deep Medium Black Soil\\r\\nPotato,Whole Year,Ashoknagar,21,26,52,63,6.037,Deep Medium Black Soil\\r\\nPotato,Whole Year,Balaghat,21,24,51,66,5.829,Mixed red & black Soil\\r\\nPotato,Whole Year,Barwani,22,27,51,62,5.728,Deep Medium Black Soil\\r\\nPotato,Whole Year,Betul,23,27,49,69,6.7,Shallow & Medium Black Soil\\r\\nPotato,Whole Year,Bhind,20,27,58,69,6.43,Alluvial soil\\r\\nPotato,Whole Year,Bhopal,20,27,59,65,5.828,Deep Medium Black Soil\\r\\nPotato,Whole Year,Chhatarpur,20,24,55,69,6.797,Mixed red & black Soil\\r\\nPotato,Whole Year,Chhindwara,21,26,57,69,6.317,Shallow & Medium Black Soil\\r\\nPotato,Whole Year,Damoh,23,26,50,67,6.021,Deep Medium Black Soil\\r\\nPotato,Whole Year,Datia,23,24,55,71,5.626,Deep Medium Black Soil\\r\\nPotato,Whole Year,Dewas,23,26,55,63,6.353,Deep Medium Black Soil\\r\\nPotato,Whole Year,Dhar,22,24,59,63,6.376,Deep Medium Black Soil\\r\\nPotato,Whole Year,Dindori,23,26,54,71,6.334,Mixed red & black Soil\\r\\nPotato,Whole Year,Guna,21,26,54,68,7.076,Deep Medium Black Soil\\r\\nPotato,Whole Year,Gwalior,21,24,58,69,6.561,Alluvial soil\\r\\nPotato,Whole Year,Harda,20,27,52,63,6.939,Deep Medium Black Soil\\r\\nPotato,Whole Year,Hoshangabad,23,27,56,65,5.973,Deep Medium Black Soil\\r\\nPotato,Whole Year,Indore,23,26,57,67,6.09,Deep Medium Black Soil\\r\\nPotato,Whole Year,Jabalpur,21,27,50,68,6.715,Deep Medium Black Soil\\r\\nPotato,Whole Year,Jhabua,22,24,58,70,6.657,Deep Medium Black Soil\\r\\nPotato,Whole Year,Katni,20,24,59,69,7.065,Deep Medium Black Soil\\r\\nPotato,Whole Year,Khandwa,22,27,57,66,6.109,Deep Medium Black Soil\\r\\nPotato,Whole Year,Khargone,20,27,57,67,5.987,Deep Medium Black Soil\\r\\nPotato,Whole Year,Mandla,23,24,53,69,6.498,Mixed red & black Soil\\r\\nPotato,Whole Year,Mandsaur,23,24,50,66,6.86,Deep Medium Black Soil\\r\\nPotato,Whole Year,Morena,23,25,56,67,7.024,Alluvial soil\\r\\nPotato,Whole Year,Narsinghpur,21,26,52,62,5.75,Deep Medium Black Soil\\r\\nPotato,Whole Year,Neemuch,23,24,58,69,6.355,Deep Medium Black Soil\\r\\nPotato,Whole Year,Panna,20,24,49,69,6.226,Mixed red & black Soil\\r\\nPotato,Whole Year,Raisen,21,26,59,67,6.737,Deep Medium Black Soil\\r\\nPotato,Whole Year,Rajgarh,23,27,53,63,6.759,Deep Medium Black Soil\\r\\nPotato,Whole Year,Ratlam,22,25,56,66,6.839,Deep Medium Black Soil\\r\\nPotato,Whole Year,Sagar,22,24,56,63,5.61,Deep Medium Black Soil\\r\\nPotato,Whole Year,Satna,21,27,49,66,5.709,Mixed red & black Soil\\r\\nPotato,Whole Year,Sehore,23,25,59,64,6.052,Deep Medium Black Soil\\r\\nPotato,Whole Year,Seoni,20,27,51,63,5.866,Shallow & Medium Black Soil\\r\\nPotato,Whole Year,Shahdol,20,24,56,70,5.585,Deep Medium Black Soil\\r\\nPotato,Whole Year,Shajapur,20,26,51,66,6.753,Deep Medium Black Soil\\r\\nPotato,Whole Year,Sheopur,21,27,53,63,6.631,Deep Medium Black Soil\\r\\nPotato,Whole Year,Shivpuri,21,27,50,65,6.357,Deep Medium Black Soil\\r\\nPotato,Whole Year,Sidhi,23,26,56,70,6.116,Deep Medium Black Soil\\r\\nPotato,Whole Year,Singrauli,23,27,52,71,6.277,Deep Medium Black Soil\\r\\nPotato,Whole Year,Tikamgarh,20,24,58,63,6.828,Mixed red & black Soil\\r\\nPotato,Whole Year,Ujjain,21,24,49,70,6.445,Deep Medium Black Soil\\r\\nPotato,Whole Year,Umaria,23,25,59,62,5.983,Deep Medium Black Soil\\r\\nPotato,Whole Year,Vidisha,22,26,53,65,5.56,Deep Medium Black Soil\\r\\nArhar/Tur,Kharif ,Agar Malwa,18,30,59,63,7.131,Deep Medium Black Soil\\r\\nArhar/Tur,Kharif ,Alirajpur,15,30,54,62,6.983,Deep Medium Black Soil\\r\\nArhar/Tur,Kharif ,Anuppur,16,34,60,61,7.472,Deep Medium Black Soil\\r\\nArhar/Tur,Kharif ,Ashoknagar,16,30,59,62,7.224,Deep Medium Black Soil\\r\\nArhar/Tur,Kharif ,Balaghat,15,33,60,64,7.256,Mixed red & black Soil\\r\\nArhar/Tur,Kharif ,Barwani,18,30,60,61,7.119,Deep Medium Black Soil\\r\\nArhar/Tur,Kharif ,Betul,17,35,59,62,7.41,Shallow & Medium Black Soil\\r\\nArhar/Tur,Kharif ,Bhind,15,31,59,61,6.696,Alluvial soil\\r\\nArhar/Tur,Kharif ,Bhopal,16,33,58,62,7.168,Deep Medium Black Soil\\r\\nArhar/Tur,Kharif,Burhanpur,18,35,60,63,7.473,Deep Medium Black Soil\\r\\nArhar/Tur,Kharif,Chhatarpur,18,30,59,62,6.749,Deep Medium Black Soil\\r\\nArhar/Tur,Kharif,Chhindwara,15,35,58,63,6.928,Deep Medium Black Soil\\r\\nArhar/Tur,Kharif,Damoh,16,31,58,61,7.352,Deep Medium Black Soil\\r\\nArhar/Tur,Kharif,Datia,18,34,58,61,6.603,Deep Medium Black Soil\\r\\nArhar/Tur,Kharif,Dewas,17,33,56,61,6.837,Deep Medium Black Soil\\r\\nArhar/Tur,Kharif,Dhar,17,35,60,64,6.71,Deep Medium Black Soil\\r\\nArhar/Tur,Kharif,Dindori,17,31,58,61,7.581,Deep Medium Black Soil\\r\\nArhar/Tur,Kharif,Guna,18,30,59,64,7.224,Deep Medium Black Soil\\r\\nArhar/Tur,Kharif,Gwalior,18,35,54,63,6.843,Shallow & Medium Black Soil\\r\\nArhar/Tur,Kharif,Harda,16,30,57,63,7.045,Deep Medium Black Soil\\r\\nCoriander,Whole Year,Balaghat,21,28,79,100,6.842,Deep Medium Black Soil\\r\\nCoriander,Whole Year,Barwani,22,26,84,99,6.656,Deep Medium Black Soil\\r\\nCoriander,Whole Year,Betul,24,27,84,95,6.804,Deep Medium Black Soil\\r\\nCoriander,Whole Year,Bhind,25,27,82,91,6.447,Deep Medium Black Soil\\r\\nCoriander,Whole Year,Bhopal,21,26,77,89,6.629,Deep Medium Black Soil\\r\\nCoriander,Whole Year,Burhanpur,24,30,84,96,6.493,Shallow & Medium Black Soil\\r\\nCoriander,Whole Year,Chhatarpur,22,28,80,94,6.227,Shallow & Medium Black Soil\\r\\nCoriander,Whole Year,Chhindwara,22,28,82,88,6.371,Mixed red & black Soil\\r\\nCoriander,Whole Year,Damoh,23,29,75,92,6.656,Deep Medium Black Soil\\r\\nCoriander,Whole Year,Datia,21,26,80,95,6.437,Deep Medium Black Soil\\r\\nCoriander,Whole Year,Dewas,25,29,81,102,6.66,Deep Medium Black Soil\\r\\nCoriander,Whole Year,Dhar,23,30,75,100,6.381,Deep Medium Black Soil\\r\\nCoriander,Whole Year,Dindori,25,29,78,94,6.33,Deep Medium Black Soil\\r\\nCoriander,Whole Year,Guna,25,28,82,101,6.689,Deep Medium Black Soil\\r\\nCoriander,Whole Year,Gwalior,24,27,84,94,6.779,Alluvial soil\\r\\nCoriander,Whole Year,Harda,25,27,81,95,6.251,Deep Medium Black Soil\\r\\nCoriander,Whole Year,Hoshangabad,24,26,83,96,6.593,Shallow & Medium Black Soil\\r\\nCoriander,Whole Year,Indore,20,26,81,101,6.339,Deep Medium Black Soil\\r\\nCoriander,Whole Year,Jabalpur,24,30,75,100,6.632,Deep Medium Black Soil\\r\\nCoriander,Whole Year,Jhabua,25,30,83,92,6.775,Deep Medium Black Soil\\r\\nCoriander,Whole Year,Katni,23,29,76,92,6.786,Shallow & Medium Black Soil\\r\\nCoriander,Whole Year,Khandwa,21,27,83,97,6.896,Shallow & Medium Black Soil\\r\\nCoriander,Whole Year,Khargone,23,30,76,97,6.78,Mixed red & black Soil\\r\\nMaize,Kharif ,Sagar,22,27,55,90,6.742,Deep Medium Black Soil\\r\\nMaize,Kharif ,Satna,23,25,53,98,5.975,Deep Medium Black Soil\\r\\nMaize,Kharif ,Sehore,21,27,56,91,6.777,Deep Medium Black Soil\\r\\nMaize,Kharif ,Seoni,25,27,51,88,5.885,Mixed red & black Soil\\r\\nMaize,Kharif ,Shahdol,19,28,59,100,6.871,Mixed red & black Soil\\r\\nMaize,Kharif ,Shajapur,22,28,53,93,6.097,Shallow & Medium Black Soil\\r\\nMaize,Kharif ,Sheopur,25,25,60,93,5.889,Deep Medium Black Soil\\r\\nMaize,Kharif ,Shivpuri,22,27,51,98,6.246,Shallow & Medium Black Soil\\r\\nMaize,Kharif ,Sidhi,20,26,55,87,5.929,Mixed red & black Soil\\r\\nMaize,Kharif,Singrauli,24,26,55,90,6.385,Deep Medium Black Soil\\r\\nMaize,Kharif,Tikamgarh,26,28,49,88,5.849,Deep Medium Black Soil\\r\\nMaize,Kharif,Ujjain,22,28,61,86,6.612,Deep Medium Black Soil\\r\\nMaize,Kharif,Umaria,25,25,64,91,6.559,Deep Medium Black Soil\\r\\nMaize,Kharif,Vidisha,19,27,55,85,6.707,Deep Medium Black Soil\\r\\nBajara ,Kharif ,Alirajpur,26,28,50,70,6.173,black cotton\\r\\nBajara ,Kharif ,Barwani,25,27,48,71,5.896,Medium Black Soil\\r\\nBajara ,Kharif ,Bhind,24,28,45,65,6.192,Alluvial soil\\r\\nBajara ,Kharif ,Datia,25,28,40,60,5.886,Deep Medium Black Soil\\r\\nBajara ,Kharif ,Dhar,23,25,41,76,6.332,Deep Medium Black Soil\\r\\nBajara ,Kharif ,Gwalior,20,27,50,60,5.585,Alluvial soil\\r\\nBajara ,Kharif ,Morena,23,26,40,75,5.867,Alluvial soil\\r\\nBajara ,Kharif ,Sheopur,25,30,45,60,6.525,Mixed Red & Black Soil\\r\\nBajara ,Kharif ,Shivpuri,20,30,40,70,6.555,Medium and Deep Black soil and Alluvial Soil\\r\\nCotton,Kharif,Alirajpur,24,30,60,100,5.952,Deep Medium Black Soil\\r\\nCotton,Kharif,Barwani,18,29,55,100,6.587,Deep Medium Black Soil\\r\\nCotton,Kharif,Burhanpur,21,27,50,95,7.157,Deep Medium Black Soil\\r\\nCotton,Kharif,Chhindwara,20,30,65,100,7.601,Shallow & Medium Black soil\\r\\nCotton,Kharif,Dewas,22,29,50,90,6.173,Deep Medium Black Soil\\r\\nCotton,Kharif,Dhar,20,32,55,95,7.247,Deep Medium Black Soil\\r\\nCotton,Kharif,Jhabua,24,29,51,97,7.77,Deep Medium Black Soil\\r\\nCotton,Kharif,Khandwa,19,30,49,93,6.14,Deep medium Black soil \\r\\nCotton,Kharif,Khargone,17,29,53,96,6.041,Deep medium Black soil \\r\\nCotton,Kharif,Ratlam,21,30,50,100,6.567,Deep medium Black soil \\r\\nGram,Rabi,Agar Malwa,23,31,69,97,8.017,Deep Medium Black Soil\\r\\nGram,Rabi,Alirajpur,24,28,65,82,7.084,Deep Medium Black Soil\\r\\nGram,Rabi,Anuppur,24,28,58,79,8.111,Deep Medium Black Soil\\r\\nGram,Rabi,Ashoknagar,24,28,66,87,8.094,Deep Medium Black Soil\\r\\nGram,Rabi,Balaghat,22,30,58,77,7.786,Mixed red & black Soil\\r\\nGram,Rabi,Barwani,26,28,69,86,8.143,Deep Medium Black Soil\\r\\nGram,Rabi,Betul,22,32,57,94,8.331,Shallow & Medium Black Soil\\r\\nGram,Rabi,Bhind,22,32,63,99,7.975,Alluvial soil\\r\\nGram,Rabi,Bhopal,21,32,55,76,7.549,Deep Medium Black Soil\\r\\nGram,Rabi,Burhanpur,23,33,63,92,7.113,Deep Medium Black Soil\\r\\nGram,Rabi,Chhatarpur,23,30,67,75,6.602,Mixed red & black Soil\\r\\nGram,Rabi,Chhindwara,24,30,62,84,7.499,Shallow & Medium Black Soil\\r\\nGram,Rabi,Damoh,23,32,68,81,7.957,Deep Medium Black Soil\\r\\nGram,Rabi,Datia,25,30,68,98,6.53,Deep Medium Black Soil\\r\\nGram,Rabi,Dewas,22,28,58,80,7.439,Deep Medium Black Soil\\r\\nGram,Rabi,Dhar,21,30,66,86,8.088,Deep Medium Black Soil\\r\\nGram,Rabi,Dindori,25,32,55,90,6.856,Mixed red & black Soil\\r\\nGram,Rabi,Guna,24,28,56,75,7.357,Deep Medium VBlack Soil\\r\\nGram,Rabi,Gwalior,22,31,55,96,8.007,Alluvial soil\\r\\nGram,Rabi,Harda,24,32,67,92,7.244,Deep Medium VBlack Soil\\r\\nGram,Rabi,Hoshangabad,22,29,63,78,7.914,Deep Medium VBlack Soil\\r\\nGram,Rabi,Indore,21,31,68,82,7.104,Deep Medium VBlack Soil\\r\\nGram,Rabi,Jabalpur,21,33,55,85,6.718,Deep Medium VBlack Soil\\r\\nGram,Rabi,Jhabua,25,31,60,79,7.191,Deep Medium VBlack Soil\\r\\nGram,Rabi,Katni,23,29,56,92,8.193,Deep Medium VBlack Soil\\r\\nGram,Rabi,Khandwa,26,33,68,77,7.714,Deep Medium VBlack Soil\\r\\nGram,Rabi,Khargone,23,30,67,79,7.984,Deep Medium VBlack Soil\\r\\nGram,Rabi,Mandla,22,33,69,91,6.874,Mixed red & black Soil\\r\\nGram,Rabi,Mandsaur,24,31,62,98,6.989,Deep Medium VBlack Soil\\r\\nGram,Rabi,Morena,23,31,68,78,8.467,Alluvial soil\\r\\nGram,Rabi,Narsinghpur,21,29,55,76,6.685,Deep Medium VBlack Soil\\r\\nGram,Rabi,Neemuch,24,28,65,82,8.43,Deep Medium VBlack Soil\\r\\nGram,Rabi,Panna,22,31,62,88,7.142,Mixed red & black Soil\\r\\nGram,Rabi,Raisen,23,33,55,75,6.705,Deep Medium Black Soil\\r\\nGram,Rabi,Rajgarh,22,29,63,88,7.986,Deep Medium Black Soil\\r\\nGram,Rabi,Ratlam,21,33,56,88,6.695,Deep Medium Black Soil\\r\\nGram,Rabi,Rewa,25,30,65,98,8.085,Mixed red & black Soil\\r\\nGram,Rabi,Sagar,26,30,68,91,7.103,Deep Medium Black Soil\\r\\nGram,Rabi,Satna,23,29,67,78,8.4,Mixed red & black Soil\\r\\nGram,Rabi,Sehore,25,33,64,94,6.536,Deep Medium Black Soil\\r\\nGram,Rabi,Seoni,24,33,59,89,7.582,Shallow & Medium Black Soil\\r\\nGram,Rabi,Shahdol,25,33,65,90,7.269,Deep Medium Black Soil\\r\\nGram,Rabi,Shajapur,26,32,64,96,7.727,Deep Meduim Black soil\\r\\nGram,Rabi,Sheopur,25,33,63,88,8.363,Deep Medium Black Soil\\r\\nGram,Rabi,Shivpuri,23,33,56,91,6.934,Deep Medium Black Soil\\r\\nGram,Rabi,Sidhi,26,29,57,79,6.803,Deep Medium Black Soil\\r\\nGram,Rabi,Singrauli,26,29,56,79,8.577,Deep Medium Black Soil\\r\\nGram,Rabi,Tikamgarh,22,29,59,90,7.571,Mixed red & black Soil\\r\\nGram,Rabi,Ujjain,26,31,61,87,7.645,Deep Medium Black Soil\\r\\nGram,Rabi,Umaria,25,28,61,80,7.707,Deep Medium Black Soil\\r\\nGram,Rabi,Vidisa,25,29,63,98,7.614,Deep Medium Black Soil\\r\\nBanana,Whole Year,Anuppur,24,34,201,253,7.282,Deep Medium Black Soil\\r\\nBanana,Whole Year,Balaghat,22,34,227,252,7.056,Mixed red & black Soil\\r\\nBanana,Whole Year,Barwani,22,32,220,243,7.612,Deep Medium Black Soil\\r\\nBanana,Whole Year,Burhanpur,22,28,217,246,6.589,Deep Medium Black Soil\\r\\nBanana,Whole Year,Damoh,17,29,220,253,7.091,Deep Medium Black Soil\\r\\nBanana,Whole Year,Dhar,22,34,203,253,7.163,Deep Medium Black Soil\\r\\nBanana,Whole Year,Hoshangabad,19,28,223,251,7.461,Deep Medium Black Soil\\r\\nBanana,Whole Year,Khandwa,24,33,219,246,6.506,Deep Medium Black Soil\\r\\nBanana,Whole Year,Khargone,20,32,228,242,7.372,Deep Medium Black Soil\\r\\nBanana,Whole Year,Ratlam,19,33,210,252,7.337,Deep Medium Black Soil\\r\\nBanana,Whole Year,Sidhi,18,30,205,248,6.707,Deep Medium Black Soil\\r\\nBanana,Whole Year,Singrauli,16,30,210,249,7.028,Deep Medium Black Soil\\r\\nPotato,Whole Year,Alirajpur,23,25,51,69,7.039,Deep Medium Black Soil\\r\\nPotato,Whole Year,Anuppur,20,27,58,71,5.856,Deep Medium Black Soil\\r\\nPotato,Whole Year,Ashoknagar,21,26,52,63,6.037,Deep Medium Black Soil\\r\\nPotato,Whole Year,Balaghat,21,24,51,66,5.829,Mixed red & black Soil\\r\\nPotato,Whole Year,Barwani,22,27,51,62,5.728,Deep Medium Black Soil\\r\\nPotato,Whole Year,Betul,23,27,49,69,6.7,Shallow & Medium Black Soil\\r\\nPotato,Whole Year,Bhind,20,27,58,69,6.43,Alluvial soil\\r\\nPotato,Whole Year,Bhopal,20,27,59,65,5.828,Deep Medium Black Soil\\r\\nPotato,Whole Year,Chhatarpur,20,24,55,69,6.797,Mixed red & black Soil\\r\\nPotato,Whole Year,Chhindwara,21,26,57,69,6.317,Shallow & Medium Black Soil\\r\\nPotato,Whole Year,Damoh,23,26,50,67,6.021,Deep Medium Black Soil\\r\\nPotato,Whole Year,Datia,23,24,55,71,5.626,Deep Medium Black Soil\\r\\nPotato,Whole Year,Dewas,23,26,55,63,6.353,Deep Medium Black Soil\\r\\nPotato,Whole Year,Dhar,22,24,59,63,6.376,Deep Medium Black Soil\\r\\nPotato,Whole Year,Dindori,23,26,54,71,6.334,Mixed red & black Soil\\r\\nPotato,Whole Year,Guna,21,26,54,68,7.076,Deep Medium Black Soil\\r\\nPotato,Whole Year,Gwalior,21,24,58,69,6.561,Alluvial soil\\r\\nPotato,Whole Year,Harda,20,27,52,63,6.939,Deep Medium Black Soil\\r\\nPotato,Whole Year,Hoshangabad,23,27,56,65,5.973,Deep Medium Black Soil\\r\\nPotato,Whole Year,Indore,23,26,57,67,6.09,Deep Medium Black Soil\\r\\nPotato,Whole Year,Jabalpur,21,27,50,68,6.715,Deep Medium Black Soil\\r\\nPotato,Whole Year,Jhabua,22,24,58,70,6.657,Deep Medium Black Soil\\r\\nPotato,Whole Year,Katni,20,24,59,69,7.065,Deep Medium Black Soil\\r\\nPotato,Whole Year,Khandwa,22,27,57,66,6.109,Deep Medium Black Soil\\r\\nPotato,Whole Year,Khargone,20,27,57,67,5.987,Deep Medium Black Soil\\r\\nPotato,Whole Year,Mandla,23,24,53,69,6.498,Mixed red & black Soil\\r\\nPotato,Whole Year,Mandsaur,23,24,50,66,6.86,Deep Medium Black Soil\\r\\nPotato,Whole Year,Morena,23,25,56,67,7.024,Alluvial soil\\r\\nPotato,Whole Year,Narsinghpur,21,26,52,62,5.75,Deep Medium Black Soil\\r\\nPotato,Whole Year,Neemuch,23,24,58,69,6.355,Deep Medium Black Soil\\r\\nPotato,Whole Year,Panna,20,24,49,69,6.226,Mixed red & black Soil\\r\\nPotato,Whole Year,Raisen,21,26,59,67,6.737,Deep Medium Black Soil\\r\\nPotato,Whole Year,Rajgarh,23,27,53,63,6.759,Deep Medium Black Soil\\r\\nPotato,Whole Year,Ratlam,22,25,56,66,6.839,Deep Medium Black Soil\\r\\nPotato,Whole Year,Sagar,22,24,56,63,5.61,Deep Medium Black Soil\\r\\nPotato,Whole Year,Satna,21,27,49,66,5.709,Mixed red & black Soil\\r\\nPotato,Whole Year,Sehore,23,25,59,64,6.052,Deep Medium Black Soil\\r\\nPotato,Whole Year,Seoni,20,27,51,63,5.866,Shallow & Medium Black Soil\\r\\nPotato,Whole Year,Shahdol,20,24,56,70,5.585,Deep Medium Black Soil\\r\\nPotato,Whole Year,Shajapur,20,26,51,66,6.753,Deep Medium Black Soil\\r\\nPotato,Whole Year,Sheopur,21,27,53,63,6.631,Deep Medium Black Soil\\r\\nPotato,Whole Year,Shivpuri,21,27,50,65,6.357,Deep Medium Black Soil\\r\\nPotato,Whole Year,Sidhi,23,26,56,70,6.116,Deep Medium Black Soil\\r\\nPotato,Whole Year,Singrauli,23,27,52,71,6.277,Deep Medium Black Soil\\r\\nPotato,Whole Year,Tikamgarh,20,24,58,63,6.828,Mixed red & black Soil\\r\\nPotato,Whole Year,Ujjain,21,24,49,70,6.445,Deep Medium Black Soil\\r\\nPotato,Whole Year,Umaria,23,25,59,62,5.983,Deep Medium Black Soil\\r\\nPotato,Whole Year,Vidisha,22,26,53,65,5.56,Deep Medium Black Soil\\r\\nArhar/Tur,Kharif ,Agar Malwa,18,30,59,63,7.131,Deep Medium Black Soil\\r\\nArhar/Tur,Kharif ,Alirajpur,15,30,54,62,6.983,Deep Medium Black Soil\\r\\nArhar/Tur,Kharif ,Anuppur,16,34,60,61,7.472,Deep Medium Black Soil\\r\\nArhar/Tur,Kharif ,Ashoknagar,16,30,59,62,7.224,Deep Medium Black Soil\\r\\nArhar/Tur,Kharif ,Balaghat,15,33,60,64,7.256,Mixed red & black Soil\\r\\nArhar/Tur,Kharif ,Barwani,18,30,60,61,7.119,Deep Medium Black Soil\\r\\nArhar/Tur,Kharif ,Betul,17,35,59,62,7.41,Shallow & Medium Black Soil\\r\\nArhar/Tur,Kharif ,Bhind,15,31,59,61,6.696,Alluvial soil\\r\\nArhar/Tur,Kharif ,Bhopal,16,33,58,62,7.168,Deep Medium Black Soil\\r\\nArhar/Tur,Kharif,Burhanpur,18,35,60,63,7.473,Deep Medium Black Soil\\r\\nArhar/Tur,Kharif,Chhatarpur,18,30,59,62,6.749,Deep Medium Black Soil\\r\\nArhar/Tur,Kharif,Chhindwara,15,35,58,63,6.928,Deep Medium Black Soil\\r\\nArhar/Tur,Kharif,Damoh,16,31,58,61,7.352,Deep Medium Black Soil\\r\\nArhar/Tur,Kharif,Datia,18,34,58,61,6.603,Deep Medium Black Soil\\r\\nArhar/Tur,Kharif,Dewas,17,33,56,61,6.837,Deep Medium Black Soil\\r\\nArhar/Tur,Kharif,Dhar,17,35,60,64,6.71,Deep Medium Black Soil\\r\\nArhar/Tur,Kharif,Dindori,17,31,58,61,7.581,Deep Medium Black Soil\\r\\nArhar/Tur,Kharif,Guna,18,30,59,64,7.224,Deep Medium Black Soil\\r\\nArhar/Tur,Kharif,Gwalior,18,35,54,63,6.843,Shallow & Medium Black Soil\\r\\nArhar/Tur,Kharif,Harda,16,30,57,63,7.045,Deep Medium Black Soil\\r\\nCoriander,Whole Year,Balaghat,21,28,79,100,6.842,Deep Medium Black Soil\\r\\nCoriander,Whole Year,Barwani,22,26,84,99,6.656,Deep Medium Black Soil\\r\\nCoriander,Whole Year,Betul,24,27,84,95,6.804,Deep Medium Black Soil\\r\\nCoriander,Whole Year,Bhind,25,27,82,91,6.447,Deep Medium Black Soil\\r\\nCoriander,Whole Year,Bhopal,21,26,77,89,6.629,Deep Medium Black Soil\\r\\nCoriander,Whole Year,Burhanpur,24,30,84,96,6.493,Shallow & Medium Black Soil\\r\\nCoriander,Whole Year,Chhatarpur,22,28,80,94,6.227,Shallow & Medium Black Soil\\r\\nCoriander,Whole Year,Chhindwara,22,28,82,88,6.371,Mixed red & black Soil\\r\\nCoriander,Whole Year,Damoh,23,29,75,92,6.656,Deep Medium Black Soil\\r\\nCoriander,Whole Year,Datia,21,26,80,95,6.437,Deep Medium Black Soil\\r\\nCoriander,Whole Year,Dewas,25,29,81,102,6.66,Deep Medium Black Soil\\r\\nCoriander,Whole Year,Dhar,23,30,75,100,6.381,Deep Medium Black Soil\\r\\nCoriander,Whole Year,Dindori,25,29,78,94,6.33,Deep Medium Black Soil\\r\\nCoriander,Whole Year,Guna,25,28,82,101,6.689,Deep Medium Black Soil\\r\\nCoriander,Whole Year,Gwalior,24,27,84,94,6.779,Alluvial soil\\r\\nCoriander,Whole Year,Harda,25,27,81,95,6.251,Deep Medium Black Soil\\r\\nCoriander,Whole Year,Hoshangabad,24,26,83,96,6.593,Shallow & Medium Black Soil\\r\\nCoriander,Whole Year,Indore,20,26,81,101,6.339,Deep Medium Black Soil\\r\\nCoriander,Whole Year,Jabalpur,24,30,75,100,6.632,Deep Medium Black Soil\\r\\nCoriander,Whole Year,Jhabua,25,30,83,92,6.775,Deep Medium Black Soil\\r\\nCoriander,Whole Year,Katni,23,29,76,92,6.786,Shallow & Medium Black Soil\\r\\nCoriander,Whole Year,Khandwa,21,27,83,97,6.896,Shallow & Medium Black Soil\\r\\nCoriander,Whole Year,Khargone,23,30,76,97,6.78,Mixed red & black Soil\\r\\nMaize,Kharif ,Sagar,22,27,55,90,6.742,Deep Medium Black Soil\\r\\nMaize,Kharif ,Satna,23,25,53,98,5.975,Deep Medium Black Soil\\r\\nMaize,Kharif ,Sehore,21,27,56,91,6.777,Deep Medium Black Soil\\r\\nMaize,Kharif ,Seoni,25,27,51,88,5.885,Mixed red & black Soil\\r\\nMaize,Kharif ,Shahdol,19,28,59,100,6.871,Mixed red & black Soil\\r\\nMaize,Kharif ,Shajapur,22,28,53,93,6.097,Shallow & Medium Black Soil\\r\\nMaize,Kharif ,Sheopur,25,25,60,93,5.889,Deep Medium Black Soil\\r\\nMaize,Kharif ,Shivpuri,22,27,51,98,6.246,Shallow & Medium Black Soil\\r\\nMaize,Kharif ,Sidhi,20,26,55,87,5.929,Mixed red & black Soil\\r\\nMaize,Kharif,Singrauli,24,26,55,90,6.385,Deep Medium Black Soil\\r\\nMaize,Kharif,Tikamgarh,26,28,49,88,5.849,Deep Medium Black Soil\\r\\nMaize,Kharif,Ujjain,22,28,61,86,6.612,Deep Medium Black Soil\\r\\nMaize,Kharif,Umaria,25,25,64,91,6.559,Deep Medium Black Soil\\r\\nMaize,Kharif,Vidisha,19,27,55,85,6.707,Deep Medium Black Soil\\r\\n'}"
            ]
          },
          "metadata": {
            "tags": []
          },
          "execution_count": 6
        }
      ]
    },
    {
      "cell_type": "code",
      "metadata": {
        "id": "A4WB45eExhru"
      },
      "source": [
        "import pandas as pd\n",
        "df=pd.read_csv(\"cropdata - Sheet1.csv\")\n"
      ],
      "execution_count": 7,
      "outputs": []
    },
    {
      "cell_type": "code",
      "metadata": {
        "id": "cGZGDU_Dx6v7",
        "outputId": "b794aca5-815e-4a88-ffa4-10a60f4bb992",
        "colab": {
          "base_uri": "https://localhost:8080/",
          "height": 639
        }
      },
      "source": [
        "df.head(20)"
      ],
      "execution_count": 30,
      "outputs": [
        {
          "output_type": "execute_result",
          "data": {
            "text/html": [
              "<div>\n",
              "<style scoped>\n",
              "    .dataframe tbody tr th:only-of-type {\n",
              "        vertical-align: middle;\n",
              "    }\n",
              "\n",
              "    .dataframe tbody tr th {\n",
              "        vertical-align: top;\n",
              "    }\n",
              "\n",
              "    .dataframe thead th {\n",
              "        text-align: right;\n",
              "    }\n",
              "</style>\n",
              "<table border=\"1\" class=\"dataframe\">\n",
              "  <thead>\n",
              "    <tr style=\"text-align: right;\">\n",
              "      <th></th>\n",
              "      <th>Crop</th>\n",
              "      <th>Season</th>\n",
              "      <th>Region</th>\n",
              "      <th>Min. Temperature</th>\n",
              "      <th>Max. Temperature</th>\n",
              "      <th>Min. Rainfall(cm)</th>\n",
              "      <th>Max. Rainfall(cm)</th>\n",
              "      <th>pH value</th>\n",
              "      <th>soil type</th>\n",
              "    </tr>\n",
              "  </thead>\n",
              "  <tbody>\n",
              "    <tr>\n",
              "      <th>0</th>\n",
              "      <td>Bajara</td>\n",
              "      <td>1</td>\n",
              "      <td>1</td>\n",
              "      <td>26</td>\n",
              "      <td>28</td>\n",
              "      <td>50</td>\n",
              "      <td>70</td>\n",
              "      <td>6.173</td>\n",
              "      <td>11</td>\n",
              "    </tr>\n",
              "    <tr>\n",
              "      <th>1</th>\n",
              "      <td>Bajara</td>\n",
              "      <td>1</td>\n",
              "      <td>5</td>\n",
              "      <td>25</td>\n",
              "      <td>27</td>\n",
              "      <td>48</td>\n",
              "      <td>71</td>\n",
              "      <td>5.896</td>\n",
              "      <td>5</td>\n",
              "    </tr>\n",
              "    <tr>\n",
              "      <th>2</th>\n",
              "      <td>Bajara</td>\n",
              "      <td>1</td>\n",
              "      <td>7</td>\n",
              "      <td>24</td>\n",
              "      <td>28</td>\n",
              "      <td>45</td>\n",
              "      <td>65</td>\n",
              "      <td>6.192</td>\n",
              "      <td>0</td>\n",
              "    </tr>\n",
              "    <tr>\n",
              "      <th>3</th>\n",
              "      <td>Bajara</td>\n",
              "      <td>1</td>\n",
              "      <td>13</td>\n",
              "      <td>25</td>\n",
              "      <td>28</td>\n",
              "      <td>40</td>\n",
              "      <td>60</td>\n",
              "      <td>5.886</td>\n",
              "      <td>1</td>\n",
              "    </tr>\n",
              "    <tr>\n",
              "      <th>4</th>\n",
              "      <td>Bajara</td>\n",
              "      <td>1</td>\n",
              "      <td>15</td>\n",
              "      <td>23</td>\n",
              "      <td>25</td>\n",
              "      <td>41</td>\n",
              "      <td>76</td>\n",
              "      <td>6.332</td>\n",
              "      <td>1</td>\n",
              "    </tr>\n",
              "    <tr>\n",
              "      <th>5</th>\n",
              "      <td>Bajara</td>\n",
              "      <td>1</td>\n",
              "      <td>18</td>\n",
              "      <td>20</td>\n",
              "      <td>27</td>\n",
              "      <td>50</td>\n",
              "      <td>60</td>\n",
              "      <td>5.585</td>\n",
              "      <td>0</td>\n",
              "    </tr>\n",
              "    <tr>\n",
              "      <th>6</th>\n",
              "      <td>Bajara</td>\n",
              "      <td>1</td>\n",
              "      <td>29</td>\n",
              "      <td>23</td>\n",
              "      <td>26</td>\n",
              "      <td>40</td>\n",
              "      <td>75</td>\n",
              "      <td>5.867</td>\n",
              "      <td>0</td>\n",
              "    </tr>\n",
              "    <tr>\n",
              "      <th>7</th>\n",
              "      <td>Bajara</td>\n",
              "      <td>1</td>\n",
              "      <td>43</td>\n",
              "      <td>25</td>\n",
              "      <td>30</td>\n",
              "      <td>45</td>\n",
              "      <td>60</td>\n",
              "      <td>6.525</td>\n",
              "      <td>7</td>\n",
              "    </tr>\n",
              "    <tr>\n",
              "      <th>8</th>\n",
              "      <td>Bajara</td>\n",
              "      <td>1</td>\n",
              "      <td>44</td>\n",
              "      <td>20</td>\n",
              "      <td>30</td>\n",
              "      <td>40</td>\n",
              "      <td>70</td>\n",
              "      <td>6.555</td>\n",
              "      <td>6</td>\n",
              "    </tr>\n",
              "    <tr>\n",
              "      <th>9</th>\n",
              "      <td>Cotton</td>\n",
              "      <td>0</td>\n",
              "      <td>1</td>\n",
              "      <td>24</td>\n",
              "      <td>30</td>\n",
              "      <td>60</td>\n",
              "      <td>100</td>\n",
              "      <td>5.952</td>\n",
              "      <td>1</td>\n",
              "    </tr>\n",
              "    <tr>\n",
              "      <th>10</th>\n",
              "      <td>Cotton</td>\n",
              "      <td>0</td>\n",
              "      <td>5</td>\n",
              "      <td>18</td>\n",
              "      <td>29</td>\n",
              "      <td>55</td>\n",
              "      <td>100</td>\n",
              "      <td>6.587</td>\n",
              "      <td>1</td>\n",
              "    </tr>\n",
              "    <tr>\n",
              "      <th>11</th>\n",
              "      <td>Cotton</td>\n",
              "      <td>0</td>\n",
              "      <td>9</td>\n",
              "      <td>21</td>\n",
              "      <td>27</td>\n",
              "      <td>50</td>\n",
              "      <td>95</td>\n",
              "      <td>7.157</td>\n",
              "      <td>1</td>\n",
              "    </tr>\n",
              "    <tr>\n",
              "      <th>12</th>\n",
              "      <td>Cotton</td>\n",
              "      <td>0</td>\n",
              "      <td>11</td>\n",
              "      <td>20</td>\n",
              "      <td>30</td>\n",
              "      <td>65</td>\n",
              "      <td>100</td>\n",
              "      <td>7.601</td>\n",
              "      <td>10</td>\n",
              "    </tr>\n",
              "    <tr>\n",
              "      <th>13</th>\n",
              "      <td>Cotton</td>\n",
              "      <td>0</td>\n",
              "      <td>14</td>\n",
              "      <td>22</td>\n",
              "      <td>29</td>\n",
              "      <td>50</td>\n",
              "      <td>90</td>\n",
              "      <td>6.173</td>\n",
              "      <td>1</td>\n",
              "    </tr>\n",
              "    <tr>\n",
              "      <th>14</th>\n",
              "      <td>Cotton</td>\n",
              "      <td>0</td>\n",
              "      <td>15</td>\n",
              "      <td>20</td>\n",
              "      <td>32</td>\n",
              "      <td>55</td>\n",
              "      <td>95</td>\n",
              "      <td>7.247</td>\n",
              "      <td>1</td>\n",
              "    </tr>\n",
              "    <tr>\n",
              "      <th>15</th>\n",
              "      <td>Cotton</td>\n",
              "      <td>0</td>\n",
              "      <td>23</td>\n",
              "      <td>24</td>\n",
              "      <td>29</td>\n",
              "      <td>51</td>\n",
              "      <td>97</td>\n",
              "      <td>7.770</td>\n",
              "      <td>1</td>\n",
              "    </tr>\n",
              "    <tr>\n",
              "      <th>16</th>\n",
              "      <td>Cotton</td>\n",
              "      <td>0</td>\n",
              "      <td>25</td>\n",
              "      <td>19</td>\n",
              "      <td>30</td>\n",
              "      <td>49</td>\n",
              "      <td>93</td>\n",
              "      <td>6.140</td>\n",
              "      <td>4</td>\n",
              "    </tr>\n",
              "    <tr>\n",
              "      <th>17</th>\n",
              "      <td>Cotton</td>\n",
              "      <td>0</td>\n",
              "      <td>26</td>\n",
              "      <td>17</td>\n",
              "      <td>29</td>\n",
              "      <td>53</td>\n",
              "      <td>96</td>\n",
              "      <td>6.041</td>\n",
              "      <td>4</td>\n",
              "    </tr>\n",
              "    <tr>\n",
              "      <th>18</th>\n",
              "      <td>Cotton</td>\n",
              "      <td>0</td>\n",
              "      <td>35</td>\n",
              "      <td>21</td>\n",
              "      <td>30</td>\n",
              "      <td>50</td>\n",
              "      <td>100</td>\n",
              "      <td>6.567</td>\n",
              "      <td>4</td>\n",
              "    </tr>\n",
              "    <tr>\n",
              "      <th>19</th>\n",
              "      <td>Gram</td>\n",
              "      <td>2</td>\n",
              "      <td>0</td>\n",
              "      <td>23</td>\n",
              "      <td>31</td>\n",
              "      <td>69</td>\n",
              "      <td>97</td>\n",
              "      <td>8.017</td>\n",
              "      <td>1</td>\n",
              "    </tr>\n",
              "  </tbody>\n",
              "</table>\n",
              "</div>"
            ],
            "text/plain": [
              "       Crop  Season  Region  ...  Max. Rainfall(cm)  pH value   soil type\n",
              "0   Bajara        1       1  ...                 70      6.173         11\n",
              "1   Bajara        1       5  ...                 71      5.896          5\n",
              "2   Bajara        1       7  ...                 65      6.192          0\n",
              "3   Bajara        1      13  ...                 60      5.886          1\n",
              "4   Bajara        1      15  ...                 76      6.332          1\n",
              "5   Bajara        1      18  ...                 60      5.585          0\n",
              "6   Bajara        1      29  ...                 75      5.867          0\n",
              "7   Bajara        1      43  ...                 60      6.525          7\n",
              "8   Bajara        1      44  ...                 70      6.555          6\n",
              "9    Cotton       0       1  ...                100      5.952          1\n",
              "10   Cotton       0       5  ...                100      6.587          1\n",
              "11   Cotton       0       9  ...                 95      7.157          1\n",
              "12   Cotton       0      11  ...                100      7.601         10\n",
              "13   Cotton       0      14  ...                 90      6.173          1\n",
              "14   Cotton       0      15  ...                 95      7.247          1\n",
              "15   Cotton       0      23  ...                 97      7.770          1\n",
              "16   Cotton       0      25  ...                 93      6.140          4\n",
              "17   Cotton       0      26  ...                 96      6.041          4\n",
              "18   Cotton       0      35  ...                100      6.567          4\n",
              "19     Gram       2       0  ...                 97      8.017          1\n",
              "\n",
              "[20 rows x 9 columns]"
            ]
          },
          "metadata": {
            "tags": []
          },
          "execution_count": 30
        }
      ]
    },
    {
      "cell_type": "code",
      "metadata": {
        "id": "iQZxeA-8x8Cb"
      },
      "source": [
        "from sklearn import preprocessing \n",
        "  \n",
        "# label_encoder object knows how to understand word labels. \n",
        "label_encoder = preprocessing.LabelEncoder() \n",
        "  \n",
        "# Encode labels in column 'species'. \n",
        "df['Season']= label_encoder.fit_transform(df['Season']) \n",
        "df['Region']= label_encoder.fit_transform(df['Region']) \n",
        "df['soil type']= label_encoder.fit_transform(df['soil type']) \n",
        "\n",
        "\n",
        "\n"
      ],
      "execution_count": 10,
      "outputs": []
    },
    {
      "cell_type": "code",
      "metadata": {
        "id": "NTyWqlGLyXPe",
        "outputId": "2a550272-a43b-4947-aeeb-603c5fc07992",
        "colab": {
          "base_uri": "https://localhost:8080/",
          "height": 195
        }
      },
      "source": [
        "df.head()"
      ],
      "execution_count": 11,
      "outputs": [
        {
          "output_type": "execute_result",
          "data": {
            "text/html": [
              "<div>\n",
              "<style scoped>\n",
              "    .dataframe tbody tr th:only-of-type {\n",
              "        vertical-align: middle;\n",
              "    }\n",
              "\n",
              "    .dataframe tbody tr th {\n",
              "        vertical-align: top;\n",
              "    }\n",
              "\n",
              "    .dataframe thead th {\n",
              "        text-align: right;\n",
              "    }\n",
              "</style>\n",
              "<table border=\"1\" class=\"dataframe\">\n",
              "  <thead>\n",
              "    <tr style=\"text-align: right;\">\n",
              "      <th></th>\n",
              "      <th>Crop</th>\n",
              "      <th>Season</th>\n",
              "      <th>Region</th>\n",
              "      <th>Min. Temperature</th>\n",
              "      <th>Max. Temperature</th>\n",
              "      <th>Min. Rainfall(cm)</th>\n",
              "      <th>Max. Rainfall(cm)</th>\n",
              "      <th>pH value</th>\n",
              "      <th>soil type</th>\n",
              "    </tr>\n",
              "  </thead>\n",
              "  <tbody>\n",
              "    <tr>\n",
              "      <th>0</th>\n",
              "      <td>Bajara</td>\n",
              "      <td>1</td>\n",
              "      <td>1</td>\n",
              "      <td>26</td>\n",
              "      <td>28</td>\n",
              "      <td>50</td>\n",
              "      <td>70</td>\n",
              "      <td>6.173</td>\n",
              "      <td>11</td>\n",
              "    </tr>\n",
              "    <tr>\n",
              "      <th>1</th>\n",
              "      <td>Bajara</td>\n",
              "      <td>1</td>\n",
              "      <td>5</td>\n",
              "      <td>25</td>\n",
              "      <td>27</td>\n",
              "      <td>48</td>\n",
              "      <td>71</td>\n",
              "      <td>5.896</td>\n",
              "      <td>5</td>\n",
              "    </tr>\n",
              "    <tr>\n",
              "      <th>2</th>\n",
              "      <td>Bajara</td>\n",
              "      <td>1</td>\n",
              "      <td>7</td>\n",
              "      <td>24</td>\n",
              "      <td>28</td>\n",
              "      <td>45</td>\n",
              "      <td>65</td>\n",
              "      <td>6.192</td>\n",
              "      <td>0</td>\n",
              "    </tr>\n",
              "    <tr>\n",
              "      <th>3</th>\n",
              "      <td>Bajara</td>\n",
              "      <td>1</td>\n",
              "      <td>13</td>\n",
              "      <td>25</td>\n",
              "      <td>28</td>\n",
              "      <td>40</td>\n",
              "      <td>60</td>\n",
              "      <td>5.886</td>\n",
              "      <td>1</td>\n",
              "    </tr>\n",
              "    <tr>\n",
              "      <th>4</th>\n",
              "      <td>Bajara</td>\n",
              "      <td>1</td>\n",
              "      <td>15</td>\n",
              "      <td>23</td>\n",
              "      <td>25</td>\n",
              "      <td>41</td>\n",
              "      <td>76</td>\n",
              "      <td>6.332</td>\n",
              "      <td>1</td>\n",
              "    </tr>\n",
              "  </tbody>\n",
              "</table>\n",
              "</div>"
            ],
            "text/plain": [
              "      Crop  Season  Region  ...  Max. Rainfall(cm)  pH value   soil type\n",
              "0  Bajara        1       1  ...                 70      6.173         11\n",
              "1  Bajara        1       5  ...                 71      5.896          5\n",
              "2  Bajara        1       7  ...                 65      6.192          0\n",
              "3  Bajara        1      13  ...                 60      5.886          1\n",
              "4  Bajara        1      15  ...                 76      6.332          1\n",
              "\n",
              "[5 rows x 9 columns]"
            ]
          },
          "metadata": {
            "tags": []
          },
          "execution_count": 11
        }
      ]
    },
    {
      "cell_type": "code",
      "metadata": {
        "id": "_Ee7xHoWylP8"
      },
      "source": [
        "X, y = df[['Season','Region','Min. Temperature',' Max. Temperature','Min. Rainfall(cm)','Max. Rainfall(cm)','pH value ','soil type']].values, df['Crop']\n"
      ],
      "execution_count": 12,
      "outputs": []
    },
    {
      "cell_type": "code",
      "metadata": {
        "id": "rQUBxuRF0egK",
        "outputId": "50f1aaf2-3723-467c-c052-9d54394c409b",
        "colab": {
          "base_uri": "https://localhost:8080/"
        }
      },
      "source": [
        "X"
      ],
      "execution_count": 13,
      "outputs": [
        {
          "output_type": "execute_result",
          "data": {
            "text/plain": [
              "array([[ 1.   ,  1.   , 26.   , ..., 70.   ,  6.173, 11.   ],\n",
              "       [ 1.   ,  5.   , 25.   , ..., 71.   ,  5.896,  5.   ],\n",
              "       [ 1.   ,  7.   , 24.   , ..., 65.   ,  6.192,  0.   ],\n",
              "       ...,\n",
              "       [ 0.   , 48.   , 22.   , ..., 86.   ,  6.612,  1.   ],\n",
              "       [ 0.   , 49.   , 25.   , ..., 91.   ,  6.559,  1.   ],\n",
              "       [ 0.   , 51.   , 19.   , ..., 85.   ,  6.707,  1.   ]])"
            ]
          },
          "metadata": {
            "tags": []
          },
          "execution_count": 13
        }
      ]
    },
    {
      "cell_type": "code",
      "metadata": {
        "id": "PGK80DwM0uO-"
      },
      "source": [
        "from sklearn import preprocessing \n",
        "min_max_scaler = preprocessing.MinMaxScaler(feature_range =(0, 1)) \n",
        "X = min_max_scaler.fit_transform(X) \n"
      ],
      "execution_count": 14,
      "outputs": []
    },
    {
      "cell_type": "code",
      "metadata": {
        "id": "yoaW6MQS06qZ",
        "outputId": "eba170ba-eb71-40fb-cbc0-22d0503a1f15",
        "colab": {
          "base_uri": "https://localhost:8080/"
        }
      },
      "source": [
        "X"
      ],
      "execution_count": 15,
      "outputs": [
        {
          "output_type": "execute_result",
          "data": {
            "text/plain": [
              "array([[0.33333333, 0.01960784, 1.        , ..., 0.05181347, 0.20318197,\n",
              "        1.        ],\n",
              "       [0.33333333, 0.09803922, 0.90909091, ..., 0.05699482, 0.11136891,\n",
              "        0.45454545],\n",
              "       [0.33333333, 0.1372549 , 0.81818182, ..., 0.02590674, 0.20947962,\n",
              "        0.        ],\n",
              "       ...,\n",
              "       [0.        , 0.94117647, 0.63636364, ..., 0.13471503, 0.34869075,\n",
              "        0.09090909],\n",
              "       [0.        , 0.96078431, 0.90909091, ..., 0.16062176, 0.33112363,\n",
              "        0.09090909],\n",
              "       [0.        , 1.        , 0.36363636, ..., 0.12953368, 0.38017899,\n",
              "        0.09090909]])"
            ]
          },
          "metadata": {
            "tags": []
          },
          "execution_count": 15
        }
      ]
    },
    {
      "cell_type": "code",
      "metadata": {
        "id": "6Dn0YEByyYuH"
      },
      "source": [
        "from sklearn.model_selection import train_test_split \n",
        "X_train, X_test, y_train, y_test = train_test_split(X, y, random_state = 0) "
      ],
      "execution_count": 16,
      "outputs": []
    },
    {
      "cell_type": "code",
      "metadata": {
        "id": "OPaBRjtZ1OpS"
      },
      "source": [
        "from sklearn.svm import SVC \n",
        "from sklearn.metrics import confusion_matrix \n",
        "\n",
        "svm_model_linear = SVC(kernel = 'linear', C = 1).fit(X_train, y_train) \n",
        "svm_predictions = svm_model_linear.predict(X_test) \n",
        "  \n",
        "# model accuracy for X_test   \n",
        "accuracy = svm_model_linear.score(X_test, y_test) \n",
        "  \n",
        "# creating a confusion matrix \n",
        "cm = confusion_matrix(y_test, svm_predictions) "
      ],
      "execution_count": 17,
      "outputs": []
    },
    {
      "cell_type": "code",
      "metadata": {
        "id": "W4dbMWtL1wUI",
        "outputId": "4ce68d41-a7ab-4d30-e089-e41cf8649551",
        "colab": {
          "base_uri": "https://localhost:8080/"
        }
      },
      "source": [
        "accuracy"
      ],
      "execution_count": 18,
      "outputs": [
        {
          "output_type": "execute_result",
          "data": {
            "text/plain": [
              "0.9829059829059829"
            ]
          },
          "metadata": {
            "tags": []
          },
          "execution_count": 18
        }
      ]
    },
    {
      "cell_type": "code",
      "metadata": {
        "id": "w5Y4uEN114TV",
        "outputId": "130e3284-c1f6-40eb-e716-e74dbc7321eb",
        "colab": {
          "base_uri": "https://localhost:8080/"
        }
      },
      "source": [
        "cm"
      ],
      "execution_count": 19,
      "outputs": [
        {
          "output_type": "execute_result",
          "data": {
            "text/plain": [
              "array([[26,  0,  0,  0,  0,  0,  0,  0],\n",
              "       [ 0, 10,  0,  0,  0,  0,  3,  0],\n",
              "       [ 0,  0, 18,  0,  0,  0,  0,  0],\n",
              "       [ 0,  0,  0, 28,  0,  0,  0,  0],\n",
              "       [ 1,  0,  0,  0, 11,  0,  0,  0],\n",
              "       [ 0,  0,  0,  0,  0, 60,  0,  0],\n",
              "       [ 0,  0,  0,  0,  0,  0, 21,  0],\n",
              "       [ 0,  0,  0,  0,  0,  0,  0, 56]])"
            ]
          },
          "metadata": {
            "tags": []
          },
          "execution_count": 19
        }
      ]
    },
    {
      "cell_type": "code",
      "metadata": {
        "id": "pHKvp-733GsZ",
        "outputId": "08c0c4db-2477-4636-e2b4-5675063bc63a",
        "colab": {
          "base_uri": "https://localhost:8080/"
        }
      },
      "source": [
        "svm_predictions "
      ],
      "execution_count": 20,
      "outputs": [
        {
          "output_type": "execute_result",
          "data": {
            "text/plain": [
              "array(['Potato', 'Gram', 'Maize', 'Cotton', 'Banana', 'Arhar/Tur',\n",
              "       'Arhar/Tur', 'Arhar/Tur', 'Gram', 'Coriander', 'Potato',\n",
              "       'Coriander', 'Potato', 'Gram', 'Gram', 'Arhar/Tur', 'Gram',\n",
              "       'Potato', 'Cotton', 'Banana', 'Potato', 'Potato', 'Coriander',\n",
              "       'Gram', 'Coriander', 'Maize', 'Arhar/Tur', 'Potato', 'Banana',\n",
              "       'Arhar/Tur', 'Cotton', 'Coriander', 'Potato', 'Coriander', 'Gram',\n",
              "       'Potato', 'Banana', 'Maize', 'Gram', 'Gram', 'Potato', 'Maize',\n",
              "       'Arhar/Tur', 'Gram', 'Gram', 'Arhar/Tur', 'Maize', 'Gram',\n",
              "       'Potato', 'Cotton', 'Banana', 'Coriander', 'Gram', 'Banana',\n",
              "       'Gram', 'Potato', 'Coriander', 'Gram', 'Maize', 'Arhar/Tur',\n",
              "       'Coriander', 'Potato', 'Gram', 'Maize', 'Potato', 'Gram', 'Maize',\n",
              "       'Banana', 'Potato', 'Bajara ', 'Coriander', 'Gram', 'Banana',\n",
              "       'Gram', 'Maize', 'Gram', 'Potato', 'Maize', 'Arhar/Tur',\n",
              "       'Arhar/Tur', 'Coriander', 'Gram', 'Potato', 'Maize', 'Maize',\n",
              "       'Cotton', 'Potato', 'Gram', 'Banana', 'Potato', 'Arhar/Tur',\n",
              "       'Coriander', 'Gram', 'Maize', 'Maize', 'Gram', 'Coriander',\n",
              "       'Potato', 'Potato', 'Potato', 'Arhar/Tur', 'Gram', 'Gram',\n",
              "       'Arhar/Tur', 'Gram', 'Gram', 'Gram', 'Gram', 'Banana', 'Gram',\n",
              "       'Maize', 'Maize', 'Potato', 'Gram', 'Gram', 'Cotton', 'Arhar/Tur',\n",
              "       'Potato', 'Potato', 'Arhar/Tur', 'Potato', 'Gram', 'Potato',\n",
              "       'Maize', 'Gram', 'Maize', 'Bajara ', 'Coriander', 'Potato',\n",
              "       'Potato', 'Potato', 'Gram', 'Coriander', 'Gram', 'Coriander',\n",
              "       'Gram', 'Banana', 'Potato', 'Potato', 'Gram', 'Potato', 'Bajara ',\n",
              "       'Potato', 'Potato', 'Potato', 'Coriander', 'Banana', 'Potato',\n",
              "       'Cotton', 'Cotton', 'Potato', 'Potato', 'Potato', 'Bajara ',\n",
              "       'Banana', 'Potato', 'Cotton', 'Gram', 'Potato', 'Coriander',\n",
              "       'Coriander', 'Coriander', 'Gram', 'Coriander', 'Potato', 'Bajara ',\n",
              "       'Bajara ', 'Potato', 'Bajara ', 'Potato', 'Gram', 'Gram', 'Potato',\n",
              "       'Maize', 'Potato', 'Arhar/Tur', 'Gram', 'Banana', 'Banana',\n",
              "       'Coriander', 'Potato', 'Potato', 'Maize', 'Bajara ', 'Potato',\n",
              "       'Bajara ', 'Gram', 'Cotton', 'Gram', 'Arhar/Tur', 'Potato', 'Gram',\n",
              "       'Banana', 'Gram', 'Gram', 'Arhar/Tur', 'Maize', 'Arhar/Tur',\n",
              "       'Coriander', 'Bajara ', 'Potato', 'Arhar/Tur', 'Gram', 'Arhar/Tur',\n",
              "       'Gram', 'Arhar/Tur', 'Gram', 'Arhar/Tur', 'Potato', 'Coriander',\n",
              "       'Potato', 'Gram', 'Potato', 'Gram', 'Arhar/Tur', 'Banana', 'Gram',\n",
              "       'Coriander', 'Banana', 'Arhar/Tur', 'Coriander', 'Gram', 'Cotton',\n",
              "       'Gram', 'Gram', 'Arhar/Tur', 'Coriander', 'Gram', 'Gram', 'Maize',\n",
              "       'Coriander', 'Potato', 'Maize', 'Maize'], dtype=object)"
            ]
          },
          "metadata": {
            "tags": []
          },
          "execution_count": 20
        }
      ]
    },
    {
      "cell_type": "code",
      "metadata": {
        "id": "UHmgS1Z_4FJz",
        "outputId": "d5558e25-7555-4e89-e328-e02c4e6033ba",
        "colab": {
          "base_uri": "https://localhost:8080/"
        }
      },
      "source": [
        "a=[[2,\t0,\t23,\t31,\t69,\t97,\t8.017,\t1]]\n",
        "\n",
        "svm_model_linear.predict(a)"
      ],
      "execution_count": 36,
      "outputs": [
        {
          "output_type": "execute_result",
          "data": {
            "text/plain": [
              "array(['Banana'], dtype=object)"
            ]
          },
          "metadata": {
            "tags": []
          },
          "execution_count": 36
        }
      ]
    }
  ]
}